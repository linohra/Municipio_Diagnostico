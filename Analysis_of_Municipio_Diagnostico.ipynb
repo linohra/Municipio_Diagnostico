{
  "cells": [
    {
      "cell_type": "code",
      "source": [
        "# Importing necessary libraries\n",
        "import pandas as pd\n",
        "import matplotlib.pyplot as plt\n",
        "import seaborn as sns\n",
        "# Load the dataset\n",
        "file_path = 'Municipio_Diagnostico.csv'\n",
        "df = pd.read_csv(file_path)\n",
        "# Display the first 5 rows of the dataframe\n",
        "df.head()"
      ],
      "outputs": [
        {
          "output_type": "display_data",
          "data": {
            "application/vnd.dataresource+json": {
              "schema": {
                "fields": [
                  {
                    "name": "index",
                    "type": "integer"
                  },
                  {
                    "name": "Edad",
                    "type": "integer"
                  },
                  {
                    "name": "Sexo",
                    "type": "string"
                  },
                  {
                    "name": "Raza",
                    "type": "string"
                  },
                  {
                    "name": "Municipio",
                    "type": "string"
                  },
                  {
                    "name": "Provincia",
                    "type": "string"
                  },
                  {
                    "name": "ÁreaSalud",
                    "type": "string"
                  },
                  {
                    "name": "Sala",
                    "type": "string"
                  },
                  {
                    "name": "Cama",
                    "type": "integer"
                  },
                  {
                    "name": "Diagnóstico",
                    "type": "string"
                  },
                  {
                    "name": "Especialidad",
                    "type": "string"
                  },
                  {
                    "name": "Unidad",
                    "type": "string"
                  },
                  {
                    "name": "Egreso",
                    "type": "string"
                  },
                  {
                    "name": "Destino",
                    "type": "string"
                  }
                ],
                "primaryKey": [
                  "index"
                ],
                "pandas_version": "1.4.0"
              },
              "data": [
                {
                  "index": 0,
                  "Edad": 16,
                  "Sexo": "F",
                  "Raza": "B",
                  "Municipio": "Cruces",
                  "Provincia": "Cienfuegos",
                  "ÁreaSalud": "Cruces",
                  "Sala": "1A",
                  "Cama": 1,
                  "Diagnóstico": "Asma Bronquial",
                  "Especialidad": "Resp",
                  "Unidad": "HGAL",
                  "Egreso": "5:30 PM",
                  "Destino": "Alta"
                },
                {
                  "index": 1,
                  "Edad": 12,
                  "Sexo": "M",
                  "Raza": "N",
                  "Municipio": "Palmira",
                  "Provincia": "Cienfuegos",
                  "ÁreaSalud": "Palmira",
                  "Sala": "7B",
                  "Cama": 4,
                  "Diagnóstico": "SDB (1B)",
                  "Especialidad": "Cirugía",
                  "Unidad": "HGAL",
                  "Egreso": "7:00 AM",
                  "Destino": "Alta"
                },
                {
                  "index": 2,
                  "Edad": 21,
                  "Sexo": "F",
                  "Raza": "M",
                  "Municipio": "Cruces",
                  "Provincia": "Cienfuegos",
                  "ÁreaSalud": "Cruces",
                  "Sala": "4B",
                  "Cama": 16,
                  "Diagnóstico": "HQ Apendicitis",
                  "Especialidad": "MI",
                  "Unidad": "HGAL",
                  "Egreso": "8:00 PM",
                  "Destino": "1A"
                },
                {
                  "index": 3,
                  "Edad": 19,
                  "Sexo": "M",
                  "Raza": "B",
                  "Municipio": "Cienfuegos",
                  "Provincia": "Cienfuegos",
                  "ÁreaSalud": "Área I",
                  "Sala": "11A",
                  "Cama": 8,
                  "Diagnóstico": "Dolor Abdominal",
                  "Especialidad": "MI",
                  "Unidad": "HGAL",
                  "Egreso": "6:10 AM",
                  "Destino": "Alta"
                },
                {
                  "index": 4,
                  "Edad": 46,
                  "Sexo": "M",
                  "Raza": "B",
                  "Municipio": "Cienfuegos",
                  "Provincia": "Cienfuegos",
                  "ÁreaSalud": "Área II",
                  "Sala": "9B",
                  "Cama": 7,
                  "Diagnóstico": "Anemia ",
                  "Especialidad": "MI",
                  "Unidad": "HGAL",
                  "Egreso": "6:00 PM",
                  "Destino": "Alta"
                }
              ],
              "datalink": {
                "display_id": "8f526054-770e-4a8e-8479-0c25c8904994"
              }
            }
          },
          "metadata": {
            "application/vnd.dataresource+json": {
              "datalink": {
                "dataframe_info": {
                  "default_index_used": true,
                  "orig_size_bytes": 560,
                  "orig_num_rows": 5,
                  "orig_num_cols": 13,
                  "truncated_string_columns": [],
                  "truncated_size_bytes": 560,
                  "truncated_num_rows": 5,
                  "truncated_num_cols": 13
                },
                "dx_settings": {
                  "NUM_PAST_SAMPLES_TRACKED": 3,
                  "ENABLE_DATALINK": true,
                  "DISPLAY_MODE": "simple",
                  "GENERATE_DEX_METADATA": false,
                  "STRINGIFY_INDEX_VALUES": false,
                  "ALLOW_NOTEABLE_ATTRS": true,
                  "DISPLAY_MAX_COLUMNS": 100,
                  "HTML_TABLE_SCHEMA": false,
                  "SAMPLING_FACTOR": 0.1,
                  "LOG_LEVEL": 30,
                  "ENABLE_ASSIGNMENT": true,
                  "FLATTEN_INDEX_VALUES": false,
                  "DEV_MODE": false,
                  "COLUMN_SAMPLING_METHOD": "outer",
                  "FLATTEN_COLUMN_VALUES": true,
                  "DISPLAY_MAX_ROWS": 50000,
                  "ROW_SAMPLING_METHOD": "random",
                  "RANDOM_STATE": 12648430,
                  "DB_LOCATION": ":memory:",
                  "STRINGIFY_COLUMN_VALUES": true,
                  "SAMPLING_METHOD": "random",
                  "MAX_STRING_LENGTH": 250,
                  "MAX_RENDER_SIZE_BYTES": 104857600,
                  "RESET_INDEX_VALUES": false
                },
                "display_id": "8f526054-770e-4a8e-8479-0c25c8904994",
                "applied_filters": [],
                "sample_history": [],
                "sampling_time": "2023-09-01T04:28:02.873366",
                "variable_name": "unk_dataframe_2cf5df95e4764458ae2fbcb12a80129b",
                "user_variable_name": null
              },
              "display_id": "8f526054-770e-4a8e-8479-0c25c8904994"
            }
          }
        }
      ],
      "execution_count": null,
      "metadata": {
        "noteable": {
          "cell_type": "code"
        },
        "ExecuteTime": {
          "end_time": "2023-09-01T04:28:03.036964+00:00",
          "start_time": "2023-09-01T04:28:02.409613+00:00"
        },
        "datalink": {
          "8f526054-770e-4a8e-8479-0c25c8904994": {
            "applied_filters": [],
            "dataframe_info": {
              "default_index_used": true,
              "orig_num_cols": 13,
              "orig_num_rows": 5,
              "orig_size_bytes": 560,
              "truncated_num_cols": 13,
              "truncated_num_rows": 5,
              "truncated_size_bytes": 560,
              "truncated_string_columns": []
            },
            "display_id": "8f526054-770e-4a8e-8479-0c25c8904994",
            "dx_settings": {
              "ALLOW_NOTEABLE_ATTRS": true,
              "COLUMN_SAMPLING_METHOD": "outer",
              "DB_LOCATION": ":memory:",
              "DEV_MODE": false,
              "DISPLAY_MAX_COLUMNS": 100,
              "DISPLAY_MAX_ROWS": 50000,
              "DISPLAY_MODE": "simple",
              "ENABLE_ASSIGNMENT": true,
              "ENABLE_DATALINK": true,
              "FLATTEN_COLUMN_VALUES": true,
              "FLATTEN_INDEX_VALUES": false,
              "GENERATE_DEX_METADATA": false,
              "HTML_TABLE_SCHEMA": false,
              "LOG_LEVEL": 30,
              "MAX_RENDER_SIZE_BYTES": 104857600,
              "MAX_STRING_LENGTH": 250,
              "NUM_PAST_SAMPLES_TRACKED": 3,
              "RANDOM_STATE": 12648430,
              "RESET_INDEX_VALUES": false,
              "ROW_SAMPLING_METHOD": "random",
              "SAMPLING_FACTOR": 0.1,
              "SAMPLING_METHOD": "random",
              "STRINGIFY_COLUMN_VALUES": true,
              "STRINGIFY_INDEX_VALUES": false
            },
            "sample_history": [],
            "sampling_time": "2023-09-01T04:28:02.873366",
            "user_variable_name": null,
            "variable_name": "unk_dataframe_2cf5df95e4764458ae2fbcb12a80129b"
          }
        }
      },
      "id": "306fdf2d-8f26-4c8a-a254-df6f59d1b856"
    },
    {
      "cell_type": "code",
      "source": [
        "# Detailed analysis of 'Diagnóstico', 'Sala', and 'Cama'\n",
        "# Count of unique values in each column\n",
        "diagnostico_count = df['Diagnóstico'].nunique()\n",
        "sala_count = df['Sala'].nunique()\n",
        "cama_count = df['Cama'].nunique()\n",
        "# Most frequent values in each column\n",
        "most_frequent_diagnostico = df['Diagnóstico'].value_counts().idxmax()\n",
        "most_frequent_sala = df['Sala'].value_counts().idxmax()\n",
        "most_frequent_cama = df['Cama'].value_counts().idxmax()\n",
        "# Display the results\n",
        "diagnostico_count, most_frequent_diagnostico, sala_count, most_frequent_sala, cama_count, most_frequent_cama"
      ],
      "outputs": [
        {
          "output_type": "execute_result",
          "execution_count": null,
          "data": {
            "text/plain": "(8, 'NAC', 13, '1A', 12, 6)"
          },
          "metadata": {}
        }
      ],
      "execution_count": null,
      "metadata": {
        "noteable": {
          "cell_type": "code"
        },
        "ExecuteTime": {
          "end_time": "2023-09-01T04:29:57.984721+00:00",
          "start_time": "2023-09-01T04:29:57.825395+00:00"
        }
      },
      "id": "81789f08-8224-49f2-8feb-ff5fbb1dd5f7"
    },
    {
      "cell_type": "code",
      "source": [
        "# Creating a cross-tabulation table between 'Sala' and 'Diagnóstico'\n",
        "cross_tab = pd.crosstab(df['Sala'], df['Diagnóstico'], margins=True, margins_name='Total')\n",
        "# Display the cross-tabulation table\n",
        "cross_tab"
      ],
      "outputs": [
        {
          "output_type": "display_data",
          "data": {
            "application/vnd.dataresource+json": {
              "schema": {
                "fields": [
                  {
                    "name": "Sala",
                    "type": "string"
                  },
                  {
                    "name": "Anemia ",
                    "type": "integer"
                  },
                  {
                    "name": "Asma Bronquial",
                    "type": "integer"
                  },
                  {
                    "name": "Dolor Abdominal",
                    "type": "integer"
                  },
                  {
                    "name": "HQ Apendicitis",
                    "type": "integer"
                  },
                  {
                    "name": "Lifrangitis Aguda",
                    "type": "integer"
                  },
                  {
                    "name": "NAC",
                    "type": "integer"
                  },
                  {
                    "name": "SDB (1B)",
                    "type": "integer"
                  },
                  {
                    "name": "SFA+ Dengue",
                    "type": "integer"
                  },
                  {
                    "name": "Total",
                    "type": "integer"
                  }
                ],
                "primaryKey": [
                  "Sala"
                ],
                "pandas_version": "1.4.0"
              },
              "data": [
                {
                  "Sala": "10A",
                  "Anemia ": 5,
                  "Asma Bronquial": 5,
                  "Dolor Abdominal": 0,
                  "HQ Apendicitis": 7,
                  "Lifrangitis Aguda": 3,
                  "NAC": 8,
                  "SDB (1B)": 0,
                  "SFA+ Dengue": 12,
                  "Total": 40
                },
                {
                  "Sala": "10B",
                  "Anemia ": 1,
                  "Asma Bronquial": 5,
                  "Dolor Abdominal": 2,
                  "HQ Apendicitis": 7,
                  "Lifrangitis Aguda": 11,
                  "NAC": 8,
                  "SDB (1B)": 0,
                  "SFA+ Dengue": 6,
                  "Total": 40
                },
                {
                  "Sala": "11A",
                  "Anemia ": 21,
                  "Asma Bronquial": 6,
                  "Dolor Abdominal": 6,
                  "HQ Apendicitis": 7,
                  "Lifrangitis Aguda": 13,
                  "NAC": 17,
                  "SDB (1B)": 0,
                  "SFA+ Dengue": 14,
                  "Total": 84
                },
                {
                  "Sala": "12A",
                  "Anemia ": 13,
                  "Asma Bronquial": 9,
                  "Dolor Abdominal": 1,
                  "HQ Apendicitis": 15,
                  "Lifrangitis Aguda": 15,
                  "NAC": 16,
                  "SDB (1B)": 0,
                  "SFA+ Dengue": 16,
                  "Total": 85
                },
                {
                  "Sala": "12B",
                  "Anemia ": 14,
                  "Asma Bronquial": 9,
                  "Dolor Abdominal": 0,
                  "HQ Apendicitis": 13,
                  "Lifrangitis Aguda": 10,
                  "NAC": 19,
                  "SDB (1B)": 0,
                  "SFA+ Dengue": 20,
                  "Total": 85
                },
                {
                  "Sala": "1A",
                  "Anemia ": 22,
                  "Asma Bronquial": 12,
                  "Dolor Abdominal": 4,
                  "HQ Apendicitis": 22,
                  "Lifrangitis Aguda": 20,
                  "NAC": 20,
                  "SDB (1B)": 0,
                  "SFA+ Dengue": 28,
                  "Total": 128
                },
                {
                  "Sala": "3A",
                  "Anemia ": 3,
                  "Asma Bronquial": 4,
                  "Dolor Abdominal": 2,
                  "HQ Apendicitis": 9,
                  "Lifrangitis Aguda": 12,
                  "NAC": 6,
                  "SDB (1B)": 0,
                  "SFA+ Dengue": 6,
                  "Total": 42
                },
                {
                  "Sala": "3B",
                  "Anemia ": 5,
                  "Asma Bronquial": 2,
                  "Dolor Abdominal": 1,
                  "HQ Apendicitis": 4,
                  "Lifrangitis Aguda": 10,
                  "NAC": 12,
                  "SDB (1B)": 0,
                  "SFA+ Dengue": 8,
                  "Total": 42
                },
                {
                  "Sala": "4B",
                  "Anemia ": 17,
                  "Asma Bronquial": 4,
                  "Dolor Abdominal": 2,
                  "HQ Apendicitis": 15,
                  "Lifrangitis Aguda": 16,
                  "NAC": 13,
                  "SDB (1B)": 0,
                  "SFA+ Dengue": 17,
                  "Total": 84
                },
                {
                  "Sala": "5A",
                  "Anemia ": 15,
                  "Asma Bronquial": 9,
                  "Dolor Abdominal": 3,
                  "HQ Apendicitis": 16,
                  "Lifrangitis Aguda": 12,
                  "NAC": 12,
                  "SDB (1B)": 0,
                  "SFA+ Dengue": 15,
                  "Total": 82
                },
                {
                  "Sala": "7B",
                  "Anemia ": 24,
                  "Asma Bronquial": 8,
                  "Dolor Abdominal": 11,
                  "HQ Apendicitis": 11,
                  "Lifrangitis Aguda": 22,
                  "NAC": 24,
                  "SDB (1B)": 2,
                  "SFA+ Dengue": 20,
                  "Total": 122
                },
                {
                  "Sala": "8B",
                  "Anemia ": 7,
                  "Asma Bronquial": 9,
                  "Dolor Abdominal": 4,
                  "HQ Apendicitis": 8,
                  "Lifrangitis Aguda": 15,
                  "NAC": 25,
                  "SDB (1B)": 1,
                  "SFA+ Dengue": 13,
                  "Total": 82
                },
                {
                  "Sala": "9B",
                  "Anemia ": 18,
                  "Asma Bronquial": 6,
                  "Dolor Abdominal": 3,
                  "HQ Apendicitis": 14,
                  "Lifrangitis Aguda": 12,
                  "NAC": 16,
                  "SDB (1B)": 0,
                  "SFA+ Dengue": 15,
                  "Total": 84
                },
                {
                  "Sala": "Total",
                  "Anemia ": 165,
                  "Asma Bronquial": 88,
                  "Dolor Abdominal": 39,
                  "HQ Apendicitis": 148,
                  "Lifrangitis Aguda": 171,
                  "NAC": 196,
                  "SDB (1B)": 3,
                  "SFA+ Dengue": 190,
                  "Total": 1000
                }
              ],
              "datalink": {
                "display_id": "7226bd95-7c78-44d8-a4ff-3382ed4eea9f"
              }
            }
          },
          "metadata": {
            "application/vnd.dataresource+json": {
              "datalink": {
                "dataframe_info": {
                  "default_index_used": false,
                  "orig_size_bytes": 1120,
                  "orig_num_rows": 14,
                  "orig_num_cols": 9,
                  "truncated_string_columns": [],
                  "truncated_size_bytes": 1120,
                  "truncated_num_rows": 14,
                  "truncated_num_cols": 9
                },
                "dx_settings": {
                  "NUM_PAST_SAMPLES_TRACKED": 3,
                  "ENABLE_DATALINK": true,
                  "DISPLAY_MODE": "simple",
                  "GENERATE_DEX_METADATA": false,
                  "STRINGIFY_INDEX_VALUES": false,
                  "ALLOW_NOTEABLE_ATTRS": true,
                  "DISPLAY_MAX_COLUMNS": 100,
                  "HTML_TABLE_SCHEMA": false,
                  "SAMPLING_FACTOR": 0.1,
                  "LOG_LEVEL": 30,
                  "ENABLE_ASSIGNMENT": true,
                  "FLATTEN_INDEX_VALUES": false,
                  "DEV_MODE": false,
                  "COLUMN_SAMPLING_METHOD": "outer",
                  "FLATTEN_COLUMN_VALUES": true,
                  "DISPLAY_MAX_ROWS": 50000,
                  "ROW_SAMPLING_METHOD": "random",
                  "RANDOM_STATE": 12648430,
                  "DB_LOCATION": ":memory:",
                  "STRINGIFY_COLUMN_VALUES": true,
                  "SAMPLING_METHOD": "random",
                  "MAX_STRING_LENGTH": 250,
                  "MAX_RENDER_SIZE_BYTES": 104857600,
                  "RESET_INDEX_VALUES": false
                },
                "display_id": "7226bd95-7c78-44d8-a4ff-3382ed4eea9f",
                "applied_filters": [],
                "sample_history": [],
                "sampling_time": "2023-09-01T04:31:36.268764",
                "variable_name": "cross_tab",
                "user_variable_name": "cross_tab"
              },
              "display_id": "7226bd95-7c78-44d8-a4ff-3382ed4eea9f"
            }
          }
        }
      ],
      "execution_count": null,
      "metadata": {
        "noteable": {
          "cell_type": "code"
        },
        "ExecuteTime": {
          "end_time": "2023-09-01T04:31:36.431419+00:00",
          "start_time": "2023-09-01T04:31:36.209861+00:00"
        },
        "datalink": {
          "7226bd95-7c78-44d8-a4ff-3382ed4eea9f": {
            "applied_filters": [],
            "dataframe_info": {
              "default_index_used": false,
              "orig_num_cols": 9,
              "orig_num_rows": 14,
              "orig_size_bytes": 1120,
              "truncated_num_cols": 9,
              "truncated_num_rows": 14,
              "truncated_size_bytes": 1120,
              "truncated_string_columns": []
            },
            "display_id": "7226bd95-7c78-44d8-a4ff-3382ed4eea9f",
            "dx_settings": {
              "ALLOW_NOTEABLE_ATTRS": true,
              "COLUMN_SAMPLING_METHOD": "outer",
              "DB_LOCATION": ":memory:",
              "DEV_MODE": false,
              "DISPLAY_MAX_COLUMNS": 100,
              "DISPLAY_MAX_ROWS": 50000,
              "DISPLAY_MODE": "simple",
              "ENABLE_ASSIGNMENT": true,
              "ENABLE_DATALINK": true,
              "FLATTEN_COLUMN_VALUES": true,
              "FLATTEN_INDEX_VALUES": false,
              "GENERATE_DEX_METADATA": false,
              "HTML_TABLE_SCHEMA": false,
              "LOG_LEVEL": 30,
              "MAX_RENDER_SIZE_BYTES": 104857600,
              "MAX_STRING_LENGTH": 250,
              "NUM_PAST_SAMPLES_TRACKED": 3,
              "RANDOM_STATE": 12648430,
              "RESET_INDEX_VALUES": false,
              "ROW_SAMPLING_METHOD": "random",
              "SAMPLING_FACTOR": 0.1,
              "SAMPLING_METHOD": "random",
              "STRINGIFY_COLUMN_VALUES": true,
              "STRINGIFY_INDEX_VALUES": false
            },
            "sample_history": [],
            "sampling_time": "2023-09-01T04:31:36.268764",
            "user_variable_name": "cross_tab",
            "variable_name": "cross_tab"
          }
        }
      },
      "id": "c1723ed3-0392-459f-8cd2-1851124a9271"
    },
    {
      "cell_type": "code",
      "source": [
        "# Creating a cross-tabulation table between 'Edad' and 'Diagnóstico'\n",
        "cross_tab_edad_diagnostico = pd.crosstab(df['Edad'], df['Diagnóstico'], margins=True, margins_name='Total')\n",
        "# Display the cross-tabulation table\n",
        "cross_tab_edad_diagnostico"
      ],
      "outputs": [
        {
          "output_type": "display_data",
          "data": {
            "application/vnd.dataresource+json": {
              "schema": {
                "fields": [
                  {
                    "name": "Edad",
                    "type": "string"
                  },
                  {
                    "name": "Anemia ",
                    "type": "integer"
                  },
                  {
                    "name": "Asma Bronquial",
                    "type": "integer"
                  },
                  {
                    "name": "Dolor Abdominal",
                    "type": "integer"
                  },
                  {
                    "name": "HQ Apendicitis",
                    "type": "integer"
                  },
                  {
                    "name": "Lifrangitis Aguda",
                    "type": "integer"
                  },
                  {
                    "name": "NAC",
                    "type": "integer"
                  },
                  {
                    "name": "SDB (1B)",
                    "type": "integer"
                  },
                  {
                    "name": "SFA+ Dengue",
                    "type": "integer"
                  },
                  {
                    "name": "Total",
                    "type": "integer"
                  }
                ],
                "primaryKey": [
                  "Edad"
                ],
                "pandas_version": "1.4.0"
              },
              "data": [
                {
                  "Edad": 6,
                  "Anemia ": 0,
                  "Asma Bronquial": 0,
                  "Dolor Abdominal": 0,
                  "HQ Apendicitis": 0,
                  "Lifrangitis Aguda": 0,
                  "NAC": 0,
                  "SDB (1B)": 0,
                  "SFA+ Dengue": 1,
                  "Total": 1
                },
                {
                  "Edad": 8,
                  "Anemia ": 0,
                  "Asma Bronquial": 0,
                  "Dolor Abdominal": 0,
                  "HQ Apendicitis": 0,
                  "Lifrangitis Aguda": 0,
                  "NAC": 1,
                  "SDB (1B)": 0,
                  "SFA+ Dengue": 0,
                  "Total": 1
                },
                {
                  "Edad": 12,
                  "Anemia ": 3,
                  "Asma Bronquial": 0,
                  "Dolor Abdominal": 0,
                  "HQ Apendicitis": 1,
                  "Lifrangitis Aguda": 1,
                  "NAC": 1,
                  "SDB (1B)": 1,
                  "SFA+ Dengue": 1,
                  "Total": 8
                },
                {
                  "Edad": 16,
                  "Anemia ": 1,
                  "Asma Bronquial": 1,
                  "Dolor Abdominal": 0,
                  "HQ Apendicitis": 0,
                  "Lifrangitis Aguda": 3,
                  "NAC": 0,
                  "SDB (1B)": 0,
                  "SFA+ Dengue": 1,
                  "Total": 6
                },
                {
                  "Edad": 18,
                  "Anemia ": 0,
                  "Asma Bronquial": 0,
                  "Dolor Abdominal": 0,
                  "HQ Apendicitis": 1,
                  "Lifrangitis Aguda": 0,
                  "NAC": 0,
                  "SDB (1B)": 0,
                  "SFA+ Dengue": 0,
                  "Total": 1
                },
                {
                  "Edad": 19,
                  "Anemia ": 2,
                  "Asma Bronquial": 2,
                  "Dolor Abdominal": 1,
                  "HQ Apendicitis": 0,
                  "Lifrangitis Aguda": 1,
                  "NAC": 0,
                  "SDB (1B)": 0,
                  "SFA+ Dengue": 3,
                  "Total": 9
                },
                {
                  "Edad": 20,
                  "Anemia ": 0,
                  "Asma Bronquial": 0,
                  "Dolor Abdominal": 1,
                  "HQ Apendicitis": 3,
                  "Lifrangitis Aguda": 2,
                  "NAC": 2,
                  "SDB (1B)": 0,
                  "SFA+ Dengue": 2,
                  "Total": 10
                },
                {
                  "Edad": 21,
                  "Anemia ": 3,
                  "Asma Bronquial": 0,
                  "Dolor Abdominal": 1,
                  "HQ Apendicitis": 4,
                  "Lifrangitis Aguda": 3,
                  "NAC": 3,
                  "SDB (1B)": 0,
                  "SFA+ Dengue": 1,
                  "Total": 15
                },
                {
                  "Edad": 22,
                  "Anemia ": 2,
                  "Asma Bronquial": 0,
                  "Dolor Abdominal": 0,
                  "HQ Apendicitis": 3,
                  "Lifrangitis Aguda": 4,
                  "NAC": 3,
                  "SDB (1B)": 0,
                  "SFA+ Dengue": 1,
                  "Total": 13
                },
                {
                  "Edad": 23,
                  "Anemia ": 1,
                  "Asma Bronquial": 0,
                  "Dolor Abdominal": 1,
                  "HQ Apendicitis": 4,
                  "Lifrangitis Aguda": 2,
                  "NAC": 2,
                  "SDB (1B)": 0,
                  "SFA+ Dengue": 1,
                  "Total": 11
                },
                {
                  "Edad": 25,
                  "Anemia ": 1,
                  "Asma Bronquial": 0,
                  "Dolor Abdominal": 1,
                  "HQ Apendicitis": 0,
                  "Lifrangitis Aguda": 0,
                  "NAC": 0,
                  "SDB (1B)": 0,
                  "SFA+ Dengue": 2,
                  "Total": 4
                },
                {
                  "Edad": 26,
                  "Anemia ": 1,
                  "Asma Bronquial": 0,
                  "Dolor Abdominal": 0,
                  "HQ Apendicitis": 0,
                  "Lifrangitis Aguda": 0,
                  "NAC": 0,
                  "SDB (1B)": 0,
                  "SFA+ Dengue": 0,
                  "Total": 1
                },
                {
                  "Edad": 27,
                  "Anemia ": 0,
                  "Asma Bronquial": 0,
                  "Dolor Abdominal": 1,
                  "HQ Apendicitis": 1,
                  "Lifrangitis Aguda": 1,
                  "NAC": 0,
                  "SDB (1B)": 0,
                  "SFA+ Dengue": 1,
                  "Total": 4
                },
                {
                  "Edad": 28,
                  "Anemia ": 0,
                  "Asma Bronquial": 0,
                  "Dolor Abdominal": 0,
                  "HQ Apendicitis": 3,
                  "Lifrangitis Aguda": 2,
                  "NAC": 2,
                  "SDB (1B)": 0,
                  "SFA+ Dengue": 1,
                  "Total": 8
                },
                {
                  "Edad": 29,
                  "Anemia ": 1,
                  "Asma Bronquial": 0,
                  "Dolor Abdominal": 0,
                  "HQ Apendicitis": 3,
                  "Lifrangitis Aguda": 3,
                  "NAC": 2,
                  "SDB (1B)": 0,
                  "SFA+ Dengue": 1,
                  "Total": 10
                },
                {
                  "Edad": 30,
                  "Anemia ": 1,
                  "Asma Bronquial": 0,
                  "Dolor Abdominal": 0,
                  "HQ Apendicitis": 1,
                  "Lifrangitis Aguda": 1,
                  "NAC": 0,
                  "SDB (1B)": 0,
                  "SFA+ Dengue": 0,
                  "Total": 3
                },
                {
                  "Edad": 31,
                  "Anemia ": 3,
                  "Asma Bronquial": 0,
                  "Dolor Abdominal": 1,
                  "HQ Apendicitis": 1,
                  "Lifrangitis Aguda": 0,
                  "NAC": 1,
                  "SDB (1B)": 0,
                  "SFA+ Dengue": 1,
                  "Total": 7
                },
                {
                  "Edad": 32,
                  "Anemia ": 0,
                  "Asma Bronquial": 0,
                  "Dolor Abdominal": 0,
                  "HQ Apendicitis": 1,
                  "Lifrangitis Aguda": 3,
                  "NAC": 4,
                  "SDB (1B)": 0,
                  "SFA+ Dengue": 0,
                  "Total": 8
                },
                {
                  "Edad": 33,
                  "Anemia ": 0,
                  "Asma Bronquial": 0,
                  "Dolor Abdominal": 0,
                  "HQ Apendicitis": 0,
                  "Lifrangitis Aguda": 1,
                  "NAC": 0,
                  "SDB (1B)": 0,
                  "SFA+ Dengue": 1,
                  "Total": 2
                },
                {
                  "Edad": 34,
                  "Anemia ": 2,
                  "Asma Bronquial": 0,
                  "Dolor Abdominal": 0,
                  "HQ Apendicitis": 1,
                  "Lifrangitis Aguda": 3,
                  "NAC": 6,
                  "SDB (1B)": 0,
                  "SFA+ Dengue": 1,
                  "Total": 13
                },
                {
                  "Edad": 35,
                  "Anemia ": 3,
                  "Asma Bronquial": 0,
                  "Dolor Abdominal": 1,
                  "HQ Apendicitis": 2,
                  "Lifrangitis Aguda": 2,
                  "NAC": 3,
                  "SDB (1B)": 0,
                  "SFA+ Dengue": 1,
                  "Total": 12
                },
                {
                  "Edad": 36,
                  "Anemia ": 2,
                  "Asma Bronquial": 0,
                  "Dolor Abdominal": 0,
                  "HQ Apendicitis": 1,
                  "Lifrangitis Aguda": 1,
                  "NAC": 0,
                  "SDB (1B)": 0,
                  "SFA+ Dengue": 0,
                  "Total": 4
                },
                {
                  "Edad": 37,
                  "Anemia ": 4,
                  "Asma Bronquial": 0,
                  "Dolor Abdominal": 1,
                  "HQ Apendicitis": 3,
                  "Lifrangitis Aguda": 1,
                  "NAC": 5,
                  "SDB (1B)": 0,
                  "SFA+ Dengue": 4,
                  "Total": 18
                },
                {
                  "Edad": 38,
                  "Anemia ": 0,
                  "Asma Bronquial": 0,
                  "Dolor Abdominal": 0,
                  "HQ Apendicitis": 1,
                  "Lifrangitis Aguda": 0,
                  "NAC": 1,
                  "SDB (1B)": 0,
                  "SFA+ Dengue": 0,
                  "Total": 2
                },
                {
                  "Edad": 39,
                  "Anemia ": 1,
                  "Asma Bronquial": 0,
                  "Dolor Abdominal": 0,
                  "HQ Apendicitis": 1,
                  "Lifrangitis Aguda": 0,
                  "NAC": 0,
                  "SDB (1B)": 0,
                  "SFA+ Dengue": 2,
                  "Total": 4
                },
                {
                  "Edad": 40,
                  "Anemia ": 0,
                  "Asma Bronquial": 0,
                  "Dolor Abdominal": 0,
                  "HQ Apendicitis": 1,
                  "Lifrangitis Aguda": 2,
                  "NAC": 1,
                  "SDB (1B)": 0,
                  "SFA+ Dengue": 0,
                  "Total": 4
                },
                {
                  "Edad": 41,
                  "Anemia ": 1,
                  "Asma Bronquial": 0,
                  "Dolor Abdominal": 0,
                  "HQ Apendicitis": 0,
                  "Lifrangitis Aguda": 2,
                  "NAC": 0,
                  "SDB (1B)": 0,
                  "SFA+ Dengue": 0,
                  "Total": 3
                },
                {
                  "Edad": 42,
                  "Anemia ": 1,
                  "Asma Bronquial": 0,
                  "Dolor Abdominal": 0,
                  "HQ Apendicitis": 1,
                  "Lifrangitis Aguda": 2,
                  "NAC": 0,
                  "SDB (1B)": 0,
                  "SFA+ Dengue": 4,
                  "Total": 8
                },
                {
                  "Edad": 43,
                  "Anemia ": 0,
                  "Asma Bronquial": 0,
                  "Dolor Abdominal": 0,
                  "HQ Apendicitis": 2,
                  "Lifrangitis Aguda": 1,
                  "NAC": 0,
                  "SDB (1B)": 0,
                  "SFA+ Dengue": 0,
                  "Total": 3
                },
                {
                  "Edad": 44,
                  "Anemia ": 3,
                  "Asma Bronquial": 1,
                  "Dolor Abdominal": 0,
                  "HQ Apendicitis": 0,
                  "Lifrangitis Aguda": 2,
                  "NAC": 6,
                  "SDB (1B)": 0,
                  "SFA+ Dengue": 5,
                  "Total": 17
                },
                {
                  "Edad": 45,
                  "Anemia ": 4,
                  "Asma Bronquial": 1,
                  "Dolor Abdominal": 1,
                  "HQ Apendicitis": 2,
                  "Lifrangitis Aguda": 1,
                  "NAC": 3,
                  "SDB (1B)": 0,
                  "SFA+ Dengue": 0,
                  "Total": 12
                },
                {
                  "Edad": 46,
                  "Anemia ": 6,
                  "Asma Bronquial": 0,
                  "Dolor Abdominal": 1,
                  "HQ Apendicitis": 1,
                  "Lifrangitis Aguda": 3,
                  "NAC": 6,
                  "SDB (1B)": 1,
                  "SFA+ Dengue": 4,
                  "Total": 22
                },
                {
                  "Edad": 47,
                  "Anemia ": 2,
                  "Asma Bronquial": 1,
                  "Dolor Abdominal": 1,
                  "HQ Apendicitis": 5,
                  "Lifrangitis Aguda": 2,
                  "NAC": 1,
                  "SDB (1B)": 0,
                  "SFA+ Dengue": 1,
                  "Total": 13
                },
                {
                  "Edad": 48,
                  "Anemia ": 4,
                  "Asma Bronquial": 3,
                  "Dolor Abdominal": 0,
                  "HQ Apendicitis": 1,
                  "Lifrangitis Aguda": 2,
                  "NAC": 2,
                  "SDB (1B)": 0,
                  "SFA+ Dengue": 1,
                  "Total": 13
                },
                {
                  "Edad": 49,
                  "Anemia ": 4,
                  "Asma Bronquial": 0,
                  "Dolor Abdominal": 0,
                  "HQ Apendicitis": 2,
                  "Lifrangitis Aguda": 3,
                  "NAC": 2,
                  "SDB (1B)": 0,
                  "SFA+ Dengue": 3,
                  "Total": 14
                },
                {
                  "Edad": 50,
                  "Anemia ": 3,
                  "Asma Bronquial": 1,
                  "Dolor Abdominal": 0,
                  "HQ Apendicitis": 1,
                  "Lifrangitis Aguda": 1,
                  "NAC": 2,
                  "SDB (1B)": 0,
                  "SFA+ Dengue": 3,
                  "Total": 11
                },
                {
                  "Edad": 51,
                  "Anemia ": 2,
                  "Asma Bronquial": 1,
                  "Dolor Abdominal": 0,
                  "HQ Apendicitis": 1,
                  "Lifrangitis Aguda": 2,
                  "NAC": 4,
                  "SDB (1B)": 0,
                  "SFA+ Dengue": 6,
                  "Total": 16
                },
                {
                  "Edad": 52,
                  "Anemia ": 9,
                  "Asma Bronquial": 3,
                  "Dolor Abdominal": 2,
                  "HQ Apendicitis": 4,
                  "Lifrangitis Aguda": 6,
                  "NAC": 5,
                  "SDB (1B)": 0,
                  "SFA+ Dengue": 3,
                  "Total": 32
                },
                {
                  "Edad": 53,
                  "Anemia ": 1,
                  "Asma Bronquial": 4,
                  "Dolor Abdominal": 0,
                  "HQ Apendicitis": 4,
                  "Lifrangitis Aguda": 2,
                  "NAC": 3,
                  "SDB (1B)": 0,
                  "SFA+ Dengue": 2,
                  "Total": 16
                },
                {
                  "Edad": 54,
                  "Anemia ": 4,
                  "Asma Bronquial": 3,
                  "Dolor Abdominal": 2,
                  "HQ Apendicitis": 7,
                  "Lifrangitis Aguda": 3,
                  "NAC": 4,
                  "SDB (1B)": 0,
                  "SFA+ Dengue": 5,
                  "Total": 28
                },
                {
                  "Edad": 55,
                  "Anemia ": 5,
                  "Asma Bronquial": 2,
                  "Dolor Abdominal": 0,
                  "HQ Apendicitis": 2,
                  "Lifrangitis Aguda": 3,
                  "NAC": 5,
                  "SDB (1B)": 0,
                  "SFA+ Dengue": 4,
                  "Total": 21
                },
                {
                  "Edad": 56,
                  "Anemia ": 6,
                  "Asma Bronquial": 4,
                  "Dolor Abdominal": 1,
                  "HQ Apendicitis": 3,
                  "Lifrangitis Aguda": 4,
                  "NAC": 5,
                  "SDB (1B)": 0,
                  "SFA+ Dengue": 7,
                  "Total": 30
                },
                {
                  "Edad": 57,
                  "Anemia ": 3,
                  "Asma Bronquial": 4,
                  "Dolor Abdominal": 1,
                  "HQ Apendicitis": 3,
                  "Lifrangitis Aguda": 5,
                  "NAC": 5,
                  "SDB (1B)": 0,
                  "SFA+ Dengue": 1,
                  "Total": 22
                },
                {
                  "Edad": 58,
                  "Anemia ": 1,
                  "Asma Bronquial": 2,
                  "Dolor Abdominal": 0,
                  "HQ Apendicitis": 3,
                  "Lifrangitis Aguda": 5,
                  "NAC": 4,
                  "SDB (1B)": 0,
                  "SFA+ Dengue": 3,
                  "Total": 18
                },
                {
                  "Edad": 59,
                  "Anemia ": 4,
                  "Asma Bronquial": 1,
                  "Dolor Abdominal": 0,
                  "HQ Apendicitis": 1,
                  "Lifrangitis Aguda": 4,
                  "NAC": 6,
                  "SDB (1B)": 0,
                  "SFA+ Dengue": 4,
                  "Total": 20
                },
                {
                  "Edad": 60,
                  "Anemia ": 3,
                  "Asma Bronquial": 3,
                  "Dolor Abdominal": 0,
                  "HQ Apendicitis": 4,
                  "Lifrangitis Aguda": 1,
                  "NAC": 5,
                  "SDB (1B)": 0,
                  "SFA+ Dengue": 5,
                  "Total": 21
                },
                {
                  "Edad": 61,
                  "Anemia ": 2,
                  "Asma Bronquial": 3,
                  "Dolor Abdominal": 0,
                  "HQ Apendicitis": 4,
                  "Lifrangitis Aguda": 5,
                  "NAC": 4,
                  "SDB (1B)": 0,
                  "SFA+ Dengue": 3,
                  "Total": 21
                },
                {
                  "Edad": 62,
                  "Anemia ": 1,
                  "Asma Bronquial": 0,
                  "Dolor Abdominal": 1,
                  "HQ Apendicitis": 0,
                  "Lifrangitis Aguda": 2,
                  "NAC": 4,
                  "SDB (1B)": 0,
                  "SFA+ Dengue": 3,
                  "Total": 11
                },
                {
                  "Edad": 63,
                  "Anemia ": 1,
                  "Asma Bronquial": 1,
                  "Dolor Abdominal": 2,
                  "HQ Apendicitis": 3,
                  "Lifrangitis Aguda": 4,
                  "NAC": 3,
                  "SDB (1B)": 0,
                  "SFA+ Dengue": 4,
                  "Total": 18
                },
                {
                  "Edad": 64,
                  "Anemia ": 1,
                  "Asma Bronquial": 3,
                  "Dolor Abdominal": 0,
                  "HQ Apendicitis": 0,
                  "Lifrangitis Aguda": 2,
                  "NAC": 6,
                  "SDB (1B)": 0,
                  "SFA+ Dengue": 4,
                  "Total": 16
                },
                {
                  "Edad": 65,
                  "Anemia ": 6,
                  "Asma Bronquial": 1,
                  "Dolor Abdominal": 2,
                  "HQ Apendicitis": 0,
                  "Lifrangitis Aguda": 4,
                  "NAC": 3,
                  "SDB (1B)": 0,
                  "SFA+ Dengue": 5,
                  "Total": 21
                },
                {
                  "Edad": 66,
                  "Anemia ": 3,
                  "Asma Bronquial": 6,
                  "Dolor Abdominal": 2,
                  "HQ Apendicitis": 3,
                  "Lifrangitis Aguda": 3,
                  "NAC": 3,
                  "SDB (1B)": 0,
                  "SFA+ Dengue": 5,
                  "Total": 25
                },
                {
                  "Edad": 67,
                  "Anemia ": 3,
                  "Asma Bronquial": 4,
                  "Dolor Abdominal": 0,
                  "HQ Apendicitis": 1,
                  "Lifrangitis Aguda": 1,
                  "NAC": 2,
                  "SDB (1B)": 0,
                  "SFA+ Dengue": 5,
                  "Total": 16
                },
                {
                  "Edad": 68,
                  "Anemia ": 7,
                  "Asma Bronquial": 5,
                  "Dolor Abdominal": 2,
                  "HQ Apendicitis": 4,
                  "Lifrangitis Aguda": 3,
                  "NAC": 4,
                  "SDB (1B)": 0,
                  "SFA+ Dengue": 5,
                  "Total": 30
                },
                {
                  "Edad": 69,
                  "Anemia ": 3,
                  "Asma Bronquial": 4,
                  "Dolor Abdominal": 2,
                  "HQ Apendicitis": 1,
                  "Lifrangitis Aguda": 2,
                  "NAC": 5,
                  "SDB (1B)": 0,
                  "SFA+ Dengue": 4,
                  "Total": 21
                },
                {
                  "Edad": 70,
                  "Anemia ": 2,
                  "Asma Bronquial": 0,
                  "Dolor Abdominal": 0,
                  "HQ Apendicitis": 4,
                  "Lifrangitis Aguda": 8,
                  "NAC": 2,
                  "SDB (1B)": 0,
                  "SFA+ Dengue": 10,
                  "Total": 26
                },
                {
                  "Edad": 71,
                  "Anemia ": 2,
                  "Asma Bronquial": 3,
                  "Dolor Abdominal": 2,
                  "HQ Apendicitis": 6,
                  "Lifrangitis Aguda": 3,
                  "NAC": 6,
                  "SDB (1B)": 0,
                  "SFA+ Dengue": 3,
                  "Total": 25
                },
                {
                  "Edad": 72,
                  "Anemia ": 3,
                  "Asma Bronquial": 3,
                  "Dolor Abdominal": 0,
                  "HQ Apendicitis": 5,
                  "Lifrangitis Aguda": 2,
                  "NAC": 4,
                  "SDB (1B)": 0,
                  "SFA+ Dengue": 3,
                  "Total": 20
                },
                {
                  "Edad": 73,
                  "Anemia ": 3,
                  "Asma Bronquial": 3,
                  "Dolor Abdominal": 0,
                  "HQ Apendicitis": 3,
                  "Lifrangitis Aguda": 1,
                  "NAC": 4,
                  "SDB (1B)": 0,
                  "SFA+ Dengue": 7,
                  "Total": 21
                },
                {
                  "Edad": 74,
                  "Anemia ": 4,
                  "Asma Bronquial": 1,
                  "Dolor Abdominal": 0,
                  "HQ Apendicitis": 3,
                  "Lifrangitis Aguda": 3,
                  "NAC": 4,
                  "SDB (1B)": 0,
                  "SFA+ Dengue": 6,
                  "Total": 21
                },
                {
                  "Edad": 75,
                  "Anemia ": 5,
                  "Asma Bronquial": 2,
                  "Dolor Abdominal": 0,
                  "HQ Apendicitis": 6,
                  "Lifrangitis Aguda": 4,
                  "NAC": 11,
                  "SDB (1B)": 1,
                  "SFA+ Dengue": 4,
                  "Total": 33
                },
                {
                  "Edad": 76,
                  "Anemia ": 1,
                  "Asma Bronquial": 0,
                  "Dolor Abdominal": 2,
                  "HQ Apendicitis": 4,
                  "Lifrangitis Aguda": 3,
                  "NAC": 1,
                  "SDB (1B)": 0,
                  "SFA+ Dengue": 5,
                  "Total": 16
                },
                {
                  "Edad": 77,
                  "Anemia ": 1,
                  "Asma Bronquial": 0,
                  "Dolor Abdominal": 0,
                  "HQ Apendicitis": 1,
                  "Lifrangitis Aguda": 4,
                  "NAC": 0,
                  "SDB (1B)": 0,
                  "SFA+ Dengue": 3,
                  "Total": 9
                },
                {
                  "Edad": 78,
                  "Anemia ": 3,
                  "Asma Bronquial": 0,
                  "Dolor Abdominal": 1,
                  "HQ Apendicitis": 1,
                  "Lifrangitis Aguda": 6,
                  "NAC": 6,
                  "SDB (1B)": 0,
                  "SFA+ Dengue": 6,
                  "Total": 23
                },
                {
                  "Edad": 79,
                  "Anemia ": 1,
                  "Asma Bronquial": 3,
                  "Dolor Abdominal": 0,
                  "HQ Apendicitis": 1,
                  "Lifrangitis Aguda": 1,
                  "NAC": 1,
                  "SDB (1B)": 0,
                  "SFA+ Dengue": 2,
                  "Total": 9
                },
                {
                  "Edad": 80,
                  "Anemia ": 2,
                  "Asma Bronquial": 4,
                  "Dolor Abdominal": 2,
                  "HQ Apendicitis": 5,
                  "Lifrangitis Aguda": 2,
                  "NAC": 3,
                  "SDB (1B)": 0,
                  "SFA+ Dengue": 1,
                  "Total": 19
                },
                {
                  "Edad": 81,
                  "Anemia ": 2,
                  "Asma Bronquial": 1,
                  "Dolor Abdominal": 0,
                  "HQ Apendicitis": 2,
                  "Lifrangitis Aguda": 2,
                  "NAC": 2,
                  "SDB (1B)": 0,
                  "SFA+ Dengue": 1,
                  "Total": 10
                },
                {
                  "Edad": 82,
                  "Anemia ": 4,
                  "Asma Bronquial": 0,
                  "Dolor Abdominal": 0,
                  "HQ Apendicitis": 1,
                  "Lifrangitis Aguda": 0,
                  "NAC": 1,
                  "SDB (1B)": 0,
                  "SFA+ Dengue": 1,
                  "Total": 7
                },
                {
                  "Edad": 83,
                  "Anemia ": 2,
                  "Asma Bronquial": 2,
                  "Dolor Abdominal": 1,
                  "HQ Apendicitis": 1,
                  "Lifrangitis Aguda": 5,
                  "NAC": 3,
                  "SDB (1B)": 0,
                  "SFA+ Dengue": 4,
                  "Total": 18
                },
                {
                  "Edad": 84,
                  "Anemia ": 3,
                  "Asma Bronquial": 0,
                  "Dolor Abdominal": 0,
                  "HQ Apendicitis": 2,
                  "Lifrangitis Aguda": 1,
                  "NAC": 0,
                  "SDB (1B)": 0,
                  "SFA+ Dengue": 1,
                  "Total": 7
                },
                {
                  "Edad": 85,
                  "Anemia ": 0,
                  "Asma Bronquial": 0,
                  "Dolor Abdominal": 0,
                  "HQ Apendicitis": 4,
                  "Lifrangitis Aguda": 1,
                  "NAC": 0,
                  "SDB (1B)": 0,
                  "SFA+ Dengue": 1,
                  "Total": 6
                },
                {
                  "Edad": 86,
                  "Anemia ": 0,
                  "Asma Bronquial": 2,
                  "Dolor Abdominal": 0,
                  "HQ Apendicitis": 0,
                  "Lifrangitis Aguda": 3,
                  "NAC": 1,
                  "SDB (1B)": 0,
                  "SFA+ Dengue": 2,
                  "Total": 8
                },
                {
                  "Edad": 87,
                  "Anemia ": 0,
                  "Asma Bronquial": 0,
                  "Dolor Abdominal": 1,
                  "HQ Apendicitis": 0,
                  "Lifrangitis Aguda": 0,
                  "NAC": 4,
                  "SDB (1B)": 0,
                  "SFA+ Dengue": 0,
                  "Total": 5
                },
                {
                  "Edad": 88,
                  "Anemia ": 0,
                  "Asma Bronquial": 0,
                  "Dolor Abdominal": 0,
                  "HQ Apendicitis": 0,
                  "Lifrangitis Aguda": 1,
                  "NAC": 1,
                  "SDB (1B)": 0,
                  "SFA+ Dengue": 0,
                  "Total": 2
                },
                {
                  "Edad": 89,
                  "Anemia ": 0,
                  "Asma Bronquial": 0,
                  "Dolor Abdominal": 1,
                  "HQ Apendicitis": 0,
                  "Lifrangitis Aguda": 0,
                  "NAC": 1,
                  "SDB (1B)": 0,
                  "SFA+ Dengue": 0,
                  "Total": 2
                },
                {
                  "Edad": 90,
                  "Anemia ": 0,
                  "Asma Bronquial": 0,
                  "Dolor Abdominal": 0,
                  "HQ Apendicitis": 0,
                  "Lifrangitis Aguda": 1,
                  "NAC": 0,
                  "SDB (1B)": 0,
                  "SFA+ Dengue": 2,
                  "Total": 3
                },
                {
                  "Edad": 91,
                  "Anemia ": 1,
                  "Asma Bronquial": 0,
                  "Dolor Abdominal": 0,
                  "HQ Apendicitis": 0,
                  "Lifrangitis Aguda": 0,
                  "NAC": 0,
                  "SDB (1B)": 0,
                  "SFA+ Dengue": 1,
                  "Total": 2
                },
                {
                  "Edad": 92,
                  "Anemia ": 1,
                  "Asma Bronquial": 0,
                  "Dolor Abdominal": 0,
                  "HQ Apendicitis": 0,
                  "Lifrangitis Aguda": 2,
                  "NAC": 0,
                  "SDB (1B)": 0,
                  "SFA+ Dengue": 0,
                  "Total": 3
                },
                {
                  "Edad": 93,
                  "Anemia ": 0,
                  "Asma Bronquial": 0,
                  "Dolor Abdominal": 0,
                  "HQ Apendicitis": 0,
                  "Lifrangitis Aguda": 1,
                  "NAC": 0,
                  "SDB (1B)": 0,
                  "SFA+ Dengue": 0,
                  "Total": 1
                },
                {
                  "Edad": 94,
                  "Anemia ": 1,
                  "Asma Bronquial": 0,
                  "Dolor Abdominal": 0,
                  "HQ Apendicitis": 0,
                  "Lifrangitis Aguda": 0,
                  "NAC": 0,
                  "SDB (1B)": 0,
                  "SFA+ Dengue": 0,
                  "Total": 1
                },
                {
                  "Edad": 95,
                  "Anemia ": 0,
                  "Asma Bronquial": 0,
                  "Dolor Abdominal": 0,
                  "HQ Apendicitis": 0,
                  "Lifrangitis Aguda": 0,
                  "NAC": 1,
                  "SDB (1B)": 0,
                  "SFA+ Dengue": 1,
                  "Total": 2
                },
                {
                  "Edad": 96,
                  "Anemia ": 0,
                  "Asma Bronquial": 0,
                  "Dolor Abdominal": 0,
                  "HQ Apendicitis": 0,
                  "Lifrangitis Aguda": 1,
                  "NAC": 0,
                  "SDB (1B)": 0,
                  "SFA+ Dengue": 1,
                  "Total": 2
                },
                {
                  "Edad": 97,
                  "Anemia ": 0,
                  "Asma Bronquial": 0,
                  "Dolor Abdominal": 0,
                  "HQ Apendicitis": 0,
                  "Lifrangitis Aguda": 0,
                  "NAC": 1,
                  "SDB (1B)": 0,
                  "SFA+ Dengue": 0,
                  "Total": 1
                },
                {
                  "Edad": "Total",
                  "Anemia ": 165,
                  "Asma Bronquial": 88,
                  "Dolor Abdominal": 39,
                  "HQ Apendicitis": 148,
                  "Lifrangitis Aguda": 171,
                  "NAC": 196,
                  "SDB (1B)": 3,
                  "SFA+ Dengue": 190,
                  "Total": 1000
                }
              ],
              "datalink": {
                "display_id": "519d02ad-449f-41bf-a34c-e0c807e54483"
              }
            }
          },
          "metadata": {
            "application/vnd.dataresource+json": {
              "datalink": {
                "dataframe_info": {
                  "default_index_used": false,
                  "orig_size_bytes": 6720,
                  "orig_num_rows": 84,
                  "orig_num_cols": 9,
                  "truncated_string_columns": [],
                  "truncated_size_bytes": 6720,
                  "truncated_num_rows": 84,
                  "truncated_num_cols": 9
                },
                "dx_settings": {
                  "NUM_PAST_SAMPLES_TRACKED": 3,
                  "ENABLE_DATALINK": true,
                  "DISPLAY_MODE": "simple",
                  "GENERATE_DEX_METADATA": false,
                  "STRINGIFY_INDEX_VALUES": false,
                  "ALLOW_NOTEABLE_ATTRS": true,
                  "DISPLAY_MAX_COLUMNS": 100,
                  "HTML_TABLE_SCHEMA": false,
                  "SAMPLING_FACTOR": 0.1,
                  "LOG_LEVEL": 30,
                  "ENABLE_ASSIGNMENT": true,
                  "FLATTEN_INDEX_VALUES": false,
                  "DEV_MODE": false,
                  "COLUMN_SAMPLING_METHOD": "outer",
                  "FLATTEN_COLUMN_VALUES": true,
                  "DISPLAY_MAX_ROWS": 50000,
                  "ROW_SAMPLING_METHOD": "random",
                  "RANDOM_STATE": 12648430,
                  "DB_LOCATION": ":memory:",
                  "STRINGIFY_COLUMN_VALUES": true,
                  "SAMPLING_METHOD": "random",
                  "MAX_STRING_LENGTH": 250,
                  "MAX_RENDER_SIZE_BYTES": 104857600,
                  "RESET_INDEX_VALUES": false
                },
                "display_id": "519d02ad-449f-41bf-a34c-e0c807e54483",
                "applied_filters": [],
                "sample_history": [],
                "sampling_time": "2023-09-01T04:34:28.308859",
                "variable_name": "cross_tab_edad_diagnostico",
                "user_variable_name": "cross_tab_edad_diagnostico"
              },
              "display_id": "519d02ad-449f-41bf-a34c-e0c807e54483"
            }
          }
        }
      ],
      "execution_count": null,
      "metadata": {
        "noteable": {
          "cell_type": "code"
        },
        "ExecuteTime": {
          "start_time": "2023-09-01T04:34:28.254723+00:00",
          "end_time": "2023-09-01T04:34:28.468766+00:00"
        },
        "datalink": {
          "519d02ad-449f-41bf-a34c-e0c807e54483": {
            "dataframe_info": {
              "default_index_used": false,
              "orig_size_bytes": 6720,
              "orig_num_rows": 84,
              "orig_num_cols": 9,
              "truncated_string_columns": [],
              "truncated_size_bytes": 6720,
              "truncated_num_rows": 84,
              "truncated_num_cols": 9
            },
            "dx_settings": {
              "LOG_LEVEL": 30,
              "DEV_MODE": false,
              "DISPLAY_MAX_ROWS": 50000,
              "DISPLAY_MAX_COLUMNS": 100,
              "HTML_TABLE_SCHEMA": false,
              "MAX_RENDER_SIZE_BYTES": 104857600,
              "MAX_STRING_LENGTH": 250,
              "SAMPLING_FACTOR": 0.1,
              "DISPLAY_MODE": "simple",
              "SAMPLING_METHOD": "random",
              "COLUMN_SAMPLING_METHOD": "outer",
              "ROW_SAMPLING_METHOD": "random",
              "RANDOM_STATE": 12648430,
              "RESET_INDEX_VALUES": false,
              "FLATTEN_INDEX_VALUES": false,
              "FLATTEN_COLUMN_VALUES": true,
              "STRINGIFY_INDEX_VALUES": false,
              "STRINGIFY_COLUMN_VALUES": true,
              "ENABLE_DATALINK": true,
              "ENABLE_ASSIGNMENT": true,
              "NUM_PAST_SAMPLES_TRACKED": 3,
              "DB_LOCATION": ":memory:",
              "GENERATE_DEX_METADATA": false,
              "ALLOW_NOTEABLE_ATTRS": true
            },
            "display_id": "519d02ad-449f-41bf-a34c-e0c807e54483",
            "applied_filters": [],
            "sample_history": [],
            "sampling_time": "2023-09-01T04:34:28.308859",
            "variable_name": "cross_tab_edad_diagnostico",
            "user_variable_name": "cross_tab_edad_diagnostico"
          }
        }
      },
      "id": "6cc87f5e-2b0a-449e-82bf-9a8ad0436792"
    },
    {
      "cell_type": "code",
      "source": [
        "# Visualizing the cross-tabulation tables\n",
        "import seaborn as sns\n",
        "import matplotlib.pyplot as plt\n",
        "\n",
        "# Visualizing the cross-tab between 'Sala' and 'Diagnóstico'\n",
        "plt.figure(figsize=(12, 8))\n",
        "sns.heatmap(cross_tab, annot=True, fmt='d', cmap='coolwarm')\n",
        "plt.title('Cross-Tabulation between Sala and Diagnóstico')\n",
        "plt.show()\n",
        "\n",
        "# Visualizing the cross-tab between 'Edad' and 'Diagnóstico'\n",
        "plt.figure(figsize=(12, 8))\n",
        "sns.heatmap(cross_tab_edad_diagnostico, annot=True, fmt='d', cmap='coolwarm')\n",
        "plt.title('Cross-Tabulation between Edad and Diagnóstico')\n",
        "plt.show()"
      ],
      "outputs": [
        {
          "output_type": "display_data",
          "data": {
            "image/png": "[encoded data removed]"
          },
          "metadata": {}
        },
        {
          "output_type": "display_data",
          "data": {
            "image/png": "[encoded data removed]"
          },
          "metadata": {}
        }
      ],
      "execution_count": null,
      "metadata": {
        "noteable": {
          "cell_type": "code"
        },
        "ExecuteTime": {
          "start_time": "2023-09-01T04:36:00.526510+00:00",
          "end_time": "2023-09-01T04:36:02.643326+00:00"
        }
      },
      "id": "8d4934f7-c8a6-488e-b84c-73870d5d8dd3"
    },
    {
      "cell_type": "code",
      "source": [
        "# Visualizing the cross-tabulation tables using bar plots\n",
        "\n",
        "# Visualizing the cross-tab between 'Sala' and 'Diagnóstico'\n",
        "cross_tab.drop('Total', axis=0, inplace=True)\n",
        "cross_tab.drop('Total', axis=1, inplace=True)\n",
        "cross_tab.plot(kind='bar', figsize=(15, 7))\n",
        "plt.title('Cross-Tabulation between Sala and Diagnóstico')\n",
        "plt.xlabel('Sala')\n",
        "plt.ylabel('Frequency')\n",
        "plt.legend(title='Diagnóstico')\n",
        "plt.show()\n",
        "\n",
        "# Visualizing the cross-tab between 'Edad' and 'Diagnóstico'\n",
        "cross_tab_edad_diagnostico.drop('Total', axis=0, inplace=True)\n",
        "cross_tab_edad_diagnostico.drop('Total', axis=1, inplace=True)\n",
        "cross_tab_edad_diagnostico.plot(kind='bar', figsize=(15, 7))\n",
        "plt.title('Cross-Tabulation between Edad and Diagnóstico')\n",
        "plt.xlabel('Edad')\n",
        "plt.ylabel('Frequency')\n",
        "plt.legend(title='Diagnóstico')\n",
        "plt.show()"
      ],
      "outputs": [
        {
          "output_type": "display_data",
          "data": {
            "image/png": "[encoded data removed]"
          },
          "metadata": {}
        },
        {
          "output_type": "display_data",
          "data": {
            "image/png": "[encoded data removed]"
          },
          "metadata": {}
        }
      ],
      "execution_count": null,
      "metadata": {
        "noteable": {
          "cell_type": "code"
        },
        "ExecuteTime": {
          "start_time": "2023-09-01T04:39:16.556505+00:00",
          "end_time": "2023-09-01T04:39:18.252682+00:00"
        }
      },
      "id": "41171785-8904-4acd-9044-64037a29bfe2"
    },
    {
      "cell_type": "code",
      "source": [
        "# Creating age ranges for a better perspective\n",
        "bins = [0, 18, 35, 50, 65, 100]\n",
        "labels = ['0-18', '19-35', '36-50', '51-65', '66-100']\n",
        "df['Age_Range'] = pd.cut(df['Edad'], bins=bins, labels=labels, right=False)\n",
        "\n",
        "# Creating a new cross-tabulation table between 'Age_Range' and 'Diagnóstico'\n",
        "cross_tab_age_range = pd.crosstab(df['Age_Range'], df['Diagnóstico'], margins=True, margins_name='Total')\n",
        "\n",
        "# Visualizing the new cross-tab\n",
        "cross_tab_age_range.drop('Total', axis=0, inplace=True)\n",
        "cross_tab_age_range.drop('Total', axis=1, inplace=True)\n",
        "cross_tab_age_range.plot(kind='bar', figsize=(15, 7))\n",
        "plt.title('Cross-Tabulation between Age Range and Diagnóstico')\n",
        "plt.xlabel('Age Range')\n",
        "plt.ylabel('Frequency')\n",
        "plt.legend(title='Diagnóstico')\n",
        "plt.show()"
      ],
      "outputs": [
        {
          "output_type": "display_data",
          "data": {
            "image/png": "[encoded data removed]"
          },
          "metadata": {}
        }
      ],
      "execution_count": null,
      "metadata": {
        "noteable": {
          "cell_type": "code"
        },
        "ExecuteTime": {
          "start_time": "2023-09-01T04:41:56.507644+00:00",
          "end_time": "2023-09-01T04:41:56.990187+00:00"
        }
      },
      "id": "e293709a-18de-4c23-ad7c-84f928f38d90"
    },
    {
      "cell_type": "code",
      "source": [
        "# Sorting and grouping the data by 'Provincia', 'Municipio', and 'ÁreaSalud'\n",
        "grouped_data = df.groupby(['Provincia', 'Municipio', 'ÁreaSalud']).size().reset_index(name='Count')\n",
        "sorted_grouped_data = grouped_data.sort_values(by=['Provincia', 'Municipio', 'ÁreaSalud'])\n",
        "sorted_grouped_data"
      ],
      "outputs": [
        {
          "output_type": "display_data",
          "data": {
            "application/vnd.dataresource+json": {
              "schema": {
                "fields": [
                  {
                    "name": "index",
                    "type": "integer"
                  },
                  {
                    "name": "Provincia",
                    "type": "string"
                  },
                  {
                    "name": "Municipio",
                    "type": "string"
                  },
                  {
                    "name": "ÁreaSalud",
                    "type": "string"
                  },
                  {
                    "name": "Count",
                    "type": "integer"
                  }
                ],
                "primaryKey": [
                  "index"
                ],
                "pandas_version": "1.4.0"
              },
              "data": [
                {
                  "index": 0,
                  "Provincia": "Cienfuegos",
                  "Municipio": "Abreus",
                  "ÁreaSalud": "Abreus",
                  "Count": 59
                },
                {
                  "index": 1,
                  "Provincia": "Cienfuegos",
                  "Municipio": "Abreus",
                  "ÁreaSalud": "Área VI",
                  "Count": 1
                },
                {
                  "index": 2,
                  "Provincia": "Cienfuegos",
                  "Municipio": "Aguada de Pasajeros",
                  "ÁreaSalud": "Aguada de Pasajeros",
                  "Count": 22
                },
                {
                  "index": 3,
                  "Provincia": "Cienfuegos",
                  "Municipio": "Cienfuegos",
                  "ÁreaSalud": "Lajas",
                  "Count": 1
                },
                {
                  "index": 4,
                  "Provincia": "Cienfuegos",
                  "Municipio": "Cienfuegos",
                  "ÁreaSalud": "Área I",
                  "Count": 21
                },
                {
                  "index": 5,
                  "Provincia": "Cienfuegos",
                  "Municipio": "Cienfuegos",
                  "ÁreaSalud": "Área II",
                  "Count": 106
                },
                {
                  "index": 6,
                  "Provincia": "Cienfuegos",
                  "Municipio": "Cienfuegos",
                  "ÁreaSalud": "Área III",
                  "Count": 136
                },
                {
                  "index": 7,
                  "Provincia": "Cienfuegos",
                  "Municipio": "Cienfuegos",
                  "ÁreaSalud": "Área IV",
                  "Count": 51
                },
                {
                  "index": 8,
                  "Provincia": "Cienfuegos",
                  "Municipio": "Cienfuegos",
                  "ÁreaSalud": "Área V",
                  "Count": 100
                },
                {
                  "index": 9,
                  "Provincia": "Cienfuegos",
                  "Municipio": "Cienfuegos",
                  "ÁreaSalud": "Área VI",
                  "Count": 112
                },
                {
                  "index": 10,
                  "Provincia": "Cienfuegos",
                  "Municipio": "Cienfuegos",
                  "ÁreaSalud": "Área VII",
                  "Count": 18
                },
                {
                  "index": 11,
                  "Provincia": "Cienfuegos",
                  "Municipio": "Cienfuegos",
                  "ÁreaSalud": "Área VIII",
                  "Count": 148
                },
                {
                  "index": 12,
                  "Provincia": "Cienfuegos",
                  "Municipio": "Cruces",
                  "ÁreaSalud": "Cruces",
                  "Count": 57
                },
                {
                  "index": 13,
                  "Provincia": "Cienfuegos",
                  "Municipio": "Cruces",
                  "ÁreaSalud": "Área II",
                  "Count": 2
                },
                {
                  "index": 14,
                  "Provincia": "Cienfuegos",
                  "Municipio": "Cruces",
                  "ÁreaSalud": "Área III",
                  "Count": 2
                },
                {
                  "index": 15,
                  "Provincia": "Cienfuegos",
                  "Municipio": "Cruces",
                  "ÁreaSalud": "Área VI",
                  "Count": 2
                },
                {
                  "index": 16,
                  "Provincia": "Cienfuegos",
                  "Municipio": "Cruces",
                  "ÁreaSalud": "Área VIII",
                  "Count": 2
                },
                {
                  "index": 17,
                  "Provincia": "Cienfuegos",
                  "Municipio": "Cumanayagua",
                  "ÁreaSalud": "Cumanayagua",
                  "Count": 32
                },
                {
                  "index": 18,
                  "Provincia": "Cienfuegos",
                  "Municipio": "Lajas",
                  "ÁreaSalud": "Lajas",
                  "Count": 62
                },
                {
                  "index": 19,
                  "Provincia": "Cienfuegos",
                  "Municipio": "Lajas",
                  "ÁreaSalud": "Área III",
                  "Count": 1
                },
                {
                  "index": 20,
                  "Provincia": "Cienfuegos",
                  "Municipio": "Palmira",
                  "ÁreaSalud": "Palmira",
                  "Count": 45
                },
                {
                  "index": 21,
                  "Provincia": "Cienfuegos",
                  "Municipio": "Plamira",
                  "ÁreaSalud": "Plamira",
                  "Count": 6
                },
                {
                  "index": 22,
                  "Provincia": "Cienfuegos",
                  "Municipio": "Rodas",
                  "ÁreaSalud": "Rodas",
                  "Count": 14
                }
              ],
              "datalink": {
                "display_id": "69df9a09-92b0-474a-8296-c728b5012b33"
              }
            }
          },
          "metadata": {
            "application/vnd.dataresource+json": {
              "datalink": {
                "dataframe_info": {
                  "default_index_used": true,
                  "orig_size_bytes": 920,
                  "orig_num_rows": 23,
                  "orig_num_cols": 4,
                  "truncated_string_columns": [],
                  "truncated_size_bytes": 920,
                  "truncated_num_rows": 23,
                  "truncated_num_cols": 4
                },
                "dx_settings": {
                  "NUM_PAST_SAMPLES_TRACKED": 3,
                  "ENABLE_DATALINK": true,
                  "DISPLAY_MODE": "simple",
                  "GENERATE_DEX_METADATA": false,
                  "STRINGIFY_INDEX_VALUES": false,
                  "ALLOW_NOTEABLE_ATTRS": true,
                  "DISPLAY_MAX_COLUMNS": 100,
                  "HTML_TABLE_SCHEMA": false,
                  "SAMPLING_FACTOR": 0.1,
                  "LOG_LEVEL": 30,
                  "ENABLE_ASSIGNMENT": true,
                  "FLATTEN_INDEX_VALUES": false,
                  "DEV_MODE": false,
                  "COLUMN_SAMPLING_METHOD": "outer",
                  "FLATTEN_COLUMN_VALUES": true,
                  "DISPLAY_MAX_ROWS": 50000,
                  "ROW_SAMPLING_METHOD": "random",
                  "RANDOM_STATE": 12648430,
                  "DB_LOCATION": ":memory:",
                  "STRINGIFY_COLUMN_VALUES": true,
                  "SAMPLING_METHOD": "random",
                  "MAX_STRING_LENGTH": 250,
                  "MAX_RENDER_SIZE_BYTES": 104857600,
                  "RESET_INDEX_VALUES": false
                },
                "display_id": "69df9a09-92b0-474a-8296-c728b5012b33",
                "applied_filters": [],
                "sample_history": [],
                "sampling_time": "2023-09-01T04:44:10.173189",
                "variable_name": "grouped_data",
                "user_variable_name": "grouped_data"
              },
              "display_id": "69df9a09-92b0-474a-8296-c728b5012b33"
            }
          }
        }
      ],
      "execution_count": null,
      "metadata": {
        "noteable": {
          "cell_type": "code"
        },
        "ExecuteTime": {
          "start_time": "2023-09-01T04:44:10.137311+00:00",
          "end_time": "2023-09-01T04:44:10.331898+00:00"
        },
        "datalink": {
          "69df9a09-92b0-474a-8296-c728b5012b33": {
            "dataframe_info": {
              "default_index_used": true,
              "orig_size_bytes": 920,
              "orig_num_rows": 23,
              "orig_num_cols": 4,
              "truncated_string_columns": [],
              "truncated_size_bytes": 920,
              "truncated_num_rows": 23,
              "truncated_num_cols": 4
            },
            "dx_settings": {
              "LOG_LEVEL": 30,
              "DEV_MODE": false,
              "DISPLAY_MAX_ROWS": 50000,
              "DISPLAY_MAX_COLUMNS": 100,
              "HTML_TABLE_SCHEMA": false,
              "MAX_RENDER_SIZE_BYTES": 104857600,
              "MAX_STRING_LENGTH": 250,
              "SAMPLING_FACTOR": 0.1,
              "DISPLAY_MODE": "simple",
              "SAMPLING_METHOD": "random",
              "COLUMN_SAMPLING_METHOD": "outer",
              "ROW_SAMPLING_METHOD": "random",
              "RANDOM_STATE": 12648430,
              "RESET_INDEX_VALUES": false,
              "FLATTEN_INDEX_VALUES": false,
              "FLATTEN_COLUMN_VALUES": true,
              "STRINGIFY_INDEX_VALUES": false,
              "STRINGIFY_COLUMN_VALUES": true,
              "ENABLE_DATALINK": true,
              "ENABLE_ASSIGNMENT": true,
              "NUM_PAST_SAMPLES_TRACKED": 3,
              "DB_LOCATION": ":memory:",
              "GENERATE_DEX_METADATA": false,
              "ALLOW_NOTEABLE_ATTRS": true
            },
            "display_id": "69df9a09-92b0-474a-8296-c728b5012b33",
            "applied_filters": [],
            "sample_history": [],
            "sampling_time": "2023-09-01T04:44:10.173189",
            "variable_name": "grouped_data",
            "user_variable_name": "grouped_data"
          }
        }
      },
      "id": "a20ece5d-531a-4132-973e-8967b71e451d"
    },
    {
      "cell_type": "code",
      "source": [
        "# Grouping the data by 'Provincia', 'Municipio', 'ÁreaSalud', and 'Diagnóstico' to get the count of each diagnosis\n",
        "grouped_data_diagnosis = df.groupby(['Provincia', 'Municipio', 'ÁreaSalud', 'Diagnóstico']).size().reset_index(name='Count')\n",
        "sorted_grouped_data_diagnosis = grouped_data_diagnosis.sort_values(by=['Provincia', 'Municipio', 'ÁreaSalud', 'Diagnóstico'])\n",
        "sorted_grouped_data_diagnosis"
      ],
      "outputs": [
        {
          "output_type": "display_data",
          "data": {
            "application/vnd.dataresource+json": {
              "schema": {
                "fields": [
                  {
                    "name": "index",
                    "type": "integer"
                  },
                  {
                    "name": "Provincia",
                    "type": "string"
                  },
                  {
                    "name": "Municipio",
                    "type": "string"
                  },
                  {
                    "name": "ÁreaSalud",
                    "type": "string"
                  },
                  {
                    "name": "Diagnóstico",
                    "type": "string"
                  },
                  {
                    "name": "Count",
                    "type": "integer"
                  }
                ],
                "primaryKey": [
                  "index"
                ],
                "pandas_version": "1.4.0"
              },
              "data": [
                {
                  "index": 0,
                  "Provincia": "Cienfuegos",
                  "Municipio": "Abreus",
                  "ÁreaSalud": "Abreus",
                  "Diagnóstico": "Anemia ",
                  "Count": 13
                },
                {
                  "index": 1,
                  "Provincia": "Cienfuegos",
                  "Municipio": "Abreus",
                  "ÁreaSalud": "Abreus",
                  "Diagnóstico": "Asma Bronquial",
                  "Count": 7
                },
                {
                  "index": 2,
                  "Provincia": "Cienfuegos",
                  "Municipio": "Abreus",
                  "ÁreaSalud": "Abreus",
                  "Diagnóstico": "Dolor Abdominal",
                  "Count": 4
                },
                {
                  "index": 3,
                  "Provincia": "Cienfuegos",
                  "Municipio": "Abreus",
                  "ÁreaSalud": "Abreus",
                  "Diagnóstico": "HQ Apendicitis",
                  "Count": 13
                },
                {
                  "index": 4,
                  "Provincia": "Cienfuegos",
                  "Municipio": "Abreus",
                  "ÁreaSalud": "Abreus",
                  "Diagnóstico": "Lifrangitis Aguda",
                  "Count": 7
                },
                {
                  "index": 5,
                  "Provincia": "Cienfuegos",
                  "Municipio": "Abreus",
                  "ÁreaSalud": "Abreus",
                  "Diagnóstico": "NAC",
                  "Count": 7
                },
                {
                  "index": 6,
                  "Provincia": "Cienfuegos",
                  "Municipio": "Abreus",
                  "ÁreaSalud": "Abreus",
                  "Diagnóstico": "SDB (1B)",
                  "Count": 2
                },
                {
                  "index": 7,
                  "Provincia": "Cienfuegos",
                  "Municipio": "Abreus",
                  "ÁreaSalud": "Abreus",
                  "Diagnóstico": "SFA+ Dengue",
                  "Count": 6
                },
                {
                  "index": 8,
                  "Provincia": "Cienfuegos",
                  "Municipio": "Abreus",
                  "ÁreaSalud": "Área VI",
                  "Diagnóstico": "SFA+ Dengue",
                  "Count": 1
                },
                {
                  "index": 9,
                  "Provincia": "Cienfuegos",
                  "Municipio": "Aguada de Pasajeros",
                  "ÁreaSalud": "Aguada de Pasajeros",
                  "Diagnóstico": "Anemia ",
                  "Count": 2
                },
                {
                  "index": 10,
                  "Provincia": "Cienfuegos",
                  "Municipio": "Aguada de Pasajeros",
                  "ÁreaSalud": "Aguada de Pasajeros",
                  "Diagnóstico": "Dolor Abdominal",
                  "Count": 2
                },
                {
                  "index": 11,
                  "Provincia": "Cienfuegos",
                  "Municipio": "Aguada de Pasajeros",
                  "ÁreaSalud": "Aguada de Pasajeros",
                  "Diagnóstico": "HQ Apendicitis",
                  "Count": 5
                },
                {
                  "index": 12,
                  "Provincia": "Cienfuegos",
                  "Municipio": "Aguada de Pasajeros",
                  "ÁreaSalud": "Aguada de Pasajeros",
                  "Diagnóstico": "Lifrangitis Aguda",
                  "Count": 7
                },
                {
                  "index": 13,
                  "Provincia": "Cienfuegos",
                  "Municipio": "Aguada de Pasajeros",
                  "ÁreaSalud": "Aguada de Pasajeros",
                  "Diagnóstico": "NAC",
                  "Count": 3
                },
                {
                  "index": 14,
                  "Provincia": "Cienfuegos",
                  "Municipio": "Aguada de Pasajeros",
                  "ÁreaSalud": "Aguada de Pasajeros",
                  "Diagnóstico": "SFA+ Dengue",
                  "Count": 3
                },
                {
                  "index": 15,
                  "Provincia": "Cienfuegos",
                  "Municipio": "Cienfuegos",
                  "ÁreaSalud": "Lajas",
                  "Diagnóstico": "Asma Bronquial",
                  "Count": 1
                },
                {
                  "index": 16,
                  "Provincia": "Cienfuegos",
                  "Municipio": "Cienfuegos",
                  "ÁreaSalud": "Área I",
                  "Diagnóstico": "Anemia ",
                  "Count": 4
                },
                {
                  "index": 17,
                  "Provincia": "Cienfuegos",
                  "Municipio": "Cienfuegos",
                  "ÁreaSalud": "Área I",
                  "Diagnóstico": "Asma Bronquial",
                  "Count": 1
                },
                {
                  "index": 18,
                  "Provincia": "Cienfuegos",
                  "Municipio": "Cienfuegos",
                  "ÁreaSalud": "Área I",
                  "Diagnóstico": "Dolor Abdominal",
                  "Count": 3
                },
                {
                  "index": 19,
                  "Provincia": "Cienfuegos",
                  "Municipio": "Cienfuegos",
                  "ÁreaSalud": "Área I",
                  "Diagnóstico": "HQ Apendicitis",
                  "Count": 3
                },
                {
                  "index": 20,
                  "Provincia": "Cienfuegos",
                  "Municipio": "Cienfuegos",
                  "ÁreaSalud": "Área I",
                  "Diagnóstico": "Lifrangitis Aguda",
                  "Count": 3
                },
                {
                  "index": 21,
                  "Provincia": "Cienfuegos",
                  "Municipio": "Cienfuegos",
                  "ÁreaSalud": "Área I",
                  "Diagnóstico": "NAC",
                  "Count": 2
                },
                {
                  "index": 22,
                  "Provincia": "Cienfuegos",
                  "Municipio": "Cienfuegos",
                  "ÁreaSalud": "Área I",
                  "Diagnóstico": "SFA+ Dengue",
                  "Count": 5
                },
                {
                  "index": 23,
                  "Provincia": "Cienfuegos",
                  "Municipio": "Cienfuegos",
                  "ÁreaSalud": "Área II",
                  "Diagnóstico": "Anemia ",
                  "Count": 16
                },
                {
                  "index": 24,
                  "Provincia": "Cienfuegos",
                  "Municipio": "Cienfuegos",
                  "ÁreaSalud": "Área II",
                  "Diagnóstico": "Asma Bronquial",
                  "Count": 10
                },
                {
                  "index": 25,
                  "Provincia": "Cienfuegos",
                  "Municipio": "Cienfuegos",
                  "ÁreaSalud": "Área II",
                  "Diagnóstico": "Dolor Abdominal",
                  "Count": 3
                },
                {
                  "index": 26,
                  "Provincia": "Cienfuegos",
                  "Municipio": "Cienfuegos",
                  "ÁreaSalud": "Área II",
                  "Diagnóstico": "HQ Apendicitis",
                  "Count": 16
                },
                {
                  "index": 27,
                  "Provincia": "Cienfuegos",
                  "Municipio": "Cienfuegos",
                  "ÁreaSalud": "Área II",
                  "Diagnóstico": "Lifrangitis Aguda",
                  "Count": 18
                },
                {
                  "index": 28,
                  "Provincia": "Cienfuegos",
                  "Municipio": "Cienfuegos",
                  "ÁreaSalud": "Área II",
                  "Diagnóstico": "NAC",
                  "Count": 23
                },
                {
                  "index": 29,
                  "Provincia": "Cienfuegos",
                  "Municipio": "Cienfuegos",
                  "ÁreaSalud": "Área II",
                  "Diagnóstico": "SFA+ Dengue",
                  "Count": 20
                },
                {
                  "index": 30,
                  "Provincia": "Cienfuegos",
                  "Municipio": "Cienfuegos",
                  "ÁreaSalud": "Área III",
                  "Diagnóstico": "Anemia ",
                  "Count": 22
                },
                {
                  "index": 31,
                  "Provincia": "Cienfuegos",
                  "Municipio": "Cienfuegos",
                  "ÁreaSalud": "Área III",
                  "Diagnóstico": "Asma Bronquial",
                  "Count": 16
                },
                {
                  "index": 32,
                  "Provincia": "Cienfuegos",
                  "Municipio": "Cienfuegos",
                  "ÁreaSalud": "Área III",
                  "Diagnóstico": "Dolor Abdominal",
                  "Count": 6
                },
                {
                  "index": 33,
                  "Provincia": "Cienfuegos",
                  "Municipio": "Cienfuegos",
                  "ÁreaSalud": "Área III",
                  "Diagnóstico": "HQ Apendicitis",
                  "Count": 18
                },
                {
                  "index": 34,
                  "Provincia": "Cienfuegos",
                  "Municipio": "Cienfuegos",
                  "ÁreaSalud": "Área III",
                  "Diagnóstico": "Lifrangitis Aguda",
                  "Count": 24
                },
                {
                  "index": 35,
                  "Provincia": "Cienfuegos",
                  "Municipio": "Cienfuegos",
                  "ÁreaSalud": "Área III",
                  "Diagnóstico": "NAC",
                  "Count": 25
                },
                {
                  "index": 36,
                  "Provincia": "Cienfuegos",
                  "Municipio": "Cienfuegos",
                  "ÁreaSalud": "Área III",
                  "Diagnóstico": "SFA+ Dengue",
                  "Count": 25
                },
                {
                  "index": 37,
                  "Provincia": "Cienfuegos",
                  "Municipio": "Cienfuegos",
                  "ÁreaSalud": "Área IV",
                  "Diagnóstico": "Anemia ",
                  "Count": 7
                },
                {
                  "index": 38,
                  "Provincia": "Cienfuegos",
                  "Municipio": "Cienfuegos",
                  "ÁreaSalud": "Área IV",
                  "Diagnóstico": "Asma Bronquial",
                  "Count": 3
                },
                {
                  "index": 39,
                  "Provincia": "Cienfuegos",
                  "Municipio": "Cienfuegos",
                  "ÁreaSalud": "Área IV",
                  "Diagnóstico": "Dolor Abdominal",
                  "Count": 3
                },
                {
                  "index": 40,
                  "Provincia": "Cienfuegos",
                  "Municipio": "Cienfuegos",
                  "ÁreaSalud": "Área IV",
                  "Diagnóstico": "HQ Apendicitis",
                  "Count": 6
                },
                {
                  "index": 41,
                  "Provincia": "Cienfuegos",
                  "Municipio": "Cienfuegos",
                  "ÁreaSalud": "Área IV",
                  "Diagnóstico": "Lifrangitis Aguda",
                  "Count": 10
                },
                {
                  "index": 42,
                  "Provincia": "Cienfuegos",
                  "Municipio": "Cienfuegos",
                  "ÁreaSalud": "Área IV",
                  "Diagnóstico": "NAC",
                  "Count": 8
                },
                {
                  "index": 43,
                  "Provincia": "Cienfuegos",
                  "Municipio": "Cienfuegos",
                  "ÁreaSalud": "Área IV",
                  "Diagnóstico": "SFA+ Dengue",
                  "Count": 14
                },
                {
                  "index": 44,
                  "Provincia": "Cienfuegos",
                  "Municipio": "Cienfuegos",
                  "ÁreaSalud": "Área V",
                  "Diagnóstico": "Anemia ",
                  "Count": 18
                },
                {
                  "index": 45,
                  "Provincia": "Cienfuegos",
                  "Municipio": "Cienfuegos",
                  "ÁreaSalud": "Área V",
                  "Diagnóstico": "Asma Bronquial",
                  "Count": 3
                },
                {
                  "index": 46,
                  "Provincia": "Cienfuegos",
                  "Municipio": "Cienfuegos",
                  "ÁreaSalud": "Área V",
                  "Diagnóstico": "Dolor Abdominal",
                  "Count": 1
                },
                {
                  "index": 47,
                  "Provincia": "Cienfuegos",
                  "Municipio": "Cienfuegos",
                  "ÁreaSalud": "Área V",
                  "Diagnóstico": "HQ Apendicitis",
                  "Count": 19
                },
                {
                  "index": 48,
                  "Provincia": "Cienfuegos",
                  "Municipio": "Cienfuegos",
                  "ÁreaSalud": "Área V",
                  "Diagnóstico": "Lifrangitis Aguda",
                  "Count": 16
                },
                {
                  "index": 49,
                  "Provincia": "Cienfuegos",
                  "Municipio": "Cienfuegos",
                  "ÁreaSalud": "Área V",
                  "Diagnóstico": "NAC",
                  "Count": 22
                },
                {
                  "index": 50,
                  "Provincia": "Cienfuegos",
                  "Municipio": "Cienfuegos",
                  "ÁreaSalud": "Área V",
                  "Diagnóstico": "SFA+ Dengue",
                  "Count": 21
                },
                {
                  "index": 51,
                  "Provincia": "Cienfuegos",
                  "Municipio": "Cienfuegos",
                  "ÁreaSalud": "Área VI",
                  "Diagnóstico": "Anemia ",
                  "Count": 11
                },
                {
                  "index": 52,
                  "Provincia": "Cienfuegos",
                  "Municipio": "Cienfuegos",
                  "ÁreaSalud": "Área VI",
                  "Diagnóstico": "Asma Bronquial",
                  "Count": 12
                },
                {
                  "index": 53,
                  "Provincia": "Cienfuegos",
                  "Municipio": "Cienfuegos",
                  "ÁreaSalud": "Área VI",
                  "Diagnóstico": "Dolor Abdominal",
                  "Count": 3
                },
                {
                  "index": 54,
                  "Provincia": "Cienfuegos",
                  "Municipio": "Cienfuegos",
                  "ÁreaSalud": "Área VI",
                  "Diagnóstico": "HQ Apendicitis",
                  "Count": 18
                },
                {
                  "index": 55,
                  "Provincia": "Cienfuegos",
                  "Municipio": "Cienfuegos",
                  "ÁreaSalud": "Área VI",
                  "Diagnóstico": "Lifrangitis Aguda",
                  "Count": 20
                },
                {
                  "index": 56,
                  "Provincia": "Cienfuegos",
                  "Municipio": "Cienfuegos",
                  "ÁreaSalud": "Área VI",
                  "Diagnóstico": "NAC",
                  "Count": 26
                },
                {
                  "index": 57,
                  "Provincia": "Cienfuegos",
                  "Municipio": "Cienfuegos",
                  "ÁreaSalud": "Área VI",
                  "Diagnóstico": "SFA+ Dengue",
                  "Count": 22
                },
                {
                  "index": 58,
                  "Provincia": "Cienfuegos",
                  "Municipio": "Cienfuegos",
                  "ÁreaSalud": "Área VII",
                  "Diagnóstico": "Anemia ",
                  "Count": 2
                },
                {
                  "index": 59,
                  "Provincia": "Cienfuegos",
                  "Municipio": "Cienfuegos",
                  "ÁreaSalud": "Área VII",
                  "Diagnóstico": "Asma Bronquial",
                  "Count": 2
                },
                {
                  "index": 60,
                  "Provincia": "Cienfuegos",
                  "Municipio": "Cienfuegos",
                  "ÁreaSalud": "Área VII",
                  "Diagnóstico": "Dolor Abdominal",
                  "Count": 1
                },
                {
                  "index": 61,
                  "Provincia": "Cienfuegos",
                  "Municipio": "Cienfuegos",
                  "ÁreaSalud": "Área VII",
                  "Diagnóstico": "HQ Apendicitis",
                  "Count": 3
                },
                {
                  "index": 62,
                  "Provincia": "Cienfuegos",
                  "Municipio": "Cienfuegos",
                  "ÁreaSalud": "Área VII",
                  "Diagnóstico": "Lifrangitis Aguda",
                  "Count": 2
                },
                {
                  "index": 63,
                  "Provincia": "Cienfuegos",
                  "Municipio": "Cienfuegos",
                  "ÁreaSalud": "Área VII",
                  "Diagnóstico": "NAC",
                  "Count": 4
                },
                {
                  "index": 64,
                  "Provincia": "Cienfuegos",
                  "Municipio": "Cienfuegos",
                  "ÁreaSalud": "Área VII",
                  "Diagnóstico": "SFA+ Dengue",
                  "Count": 4
                },
                {
                  "index": 65,
                  "Provincia": "Cienfuegos",
                  "Municipio": "Cienfuegos",
                  "ÁreaSalud": "Área VIII",
                  "Diagnóstico": "Anemia ",
                  "Count": 30
                },
                {
                  "index": 66,
                  "Provincia": "Cienfuegos",
                  "Municipio": "Cienfuegos",
                  "ÁreaSalud": "Área VIII",
                  "Diagnóstico": "Asma Bronquial",
                  "Count": 3
                },
                {
                  "index": 67,
                  "Provincia": "Cienfuegos",
                  "Municipio": "Cienfuegos",
                  "ÁreaSalud": "Área VIII",
                  "Diagnóstico": "Dolor Abdominal",
                  "Count": 3
                },
                {
                  "index": 68,
                  "Provincia": "Cienfuegos",
                  "Municipio": "Cienfuegos",
                  "ÁreaSalud": "Área VIII",
                  "Diagnóstico": "HQ Apendicitis",
                  "Count": 21
                },
                {
                  "index": 69,
                  "Provincia": "Cienfuegos",
                  "Municipio": "Cienfuegos",
                  "ÁreaSalud": "Área VIII",
                  "Diagnóstico": "Lifrangitis Aguda",
                  "Count": 23
                },
                {
                  "index": 70,
                  "Provincia": "Cienfuegos",
                  "Municipio": "Cienfuegos",
                  "ÁreaSalud": "Área VIII",
                  "Diagnóstico": "NAC",
                  "Count": 33
                },
                {
                  "index": 71,
                  "Provincia": "Cienfuegos",
                  "Municipio": "Cienfuegos",
                  "ÁreaSalud": "Área VIII",
                  "Diagnóstico": "SFA+ Dengue",
                  "Count": 35
                },
                {
                  "index": 72,
                  "Provincia": "Cienfuegos",
                  "Municipio": "Cruces",
                  "ÁreaSalud": "Cruces",
                  "Diagnóstico": "Anemia ",
                  "Count": 17
                },
                {
                  "index": 73,
                  "Provincia": "Cienfuegos",
                  "Municipio": "Cruces",
                  "ÁreaSalud": "Cruces",
                  "Diagnóstico": "Asma Bronquial",
                  "Count": 2
                },
                {
                  "index": 74,
                  "Provincia": "Cienfuegos",
                  "Municipio": "Cruces",
                  "ÁreaSalud": "Cruces",
                  "Diagnóstico": "Dolor Abdominal",
                  "Count": 3
                },
                {
                  "index": 75,
                  "Provincia": "Cienfuegos",
                  "Municipio": "Cruces",
                  "ÁreaSalud": "Cruces",
                  "Diagnóstico": "HQ Apendicitis",
                  "Count": 6
                },
                {
                  "index": 76,
                  "Provincia": "Cienfuegos",
                  "Municipio": "Cruces",
                  "ÁreaSalud": "Cruces",
                  "Diagnóstico": "Lifrangitis Aguda",
                  "Count": 13
                },
                {
                  "index": 77,
                  "Provincia": "Cienfuegos",
                  "Municipio": "Cruces",
                  "ÁreaSalud": "Cruces",
                  "Diagnóstico": "NAC",
                  "Count": 11
                },
                {
                  "index": 78,
                  "Provincia": "Cienfuegos",
                  "Municipio": "Cruces",
                  "ÁreaSalud": "Cruces",
                  "Diagnóstico": "SFA+ Dengue",
                  "Count": 5
                },
                {
                  "index": 79,
                  "Provincia": "Cienfuegos",
                  "Municipio": "Cruces",
                  "ÁreaSalud": "Área II",
                  "Diagnóstico": "Anemia ",
                  "Count": 1
                },
                {
                  "index": 80,
                  "Provincia": "Cienfuegos",
                  "Municipio": "Cruces",
                  "ÁreaSalud": "Área II",
                  "Diagnóstico": "HQ Apendicitis",
                  "Count": 1
                },
                {
                  "index": 81,
                  "Provincia": "Cienfuegos",
                  "Municipio": "Cruces",
                  "ÁreaSalud": "Área III",
                  "Diagnóstico": "HQ Apendicitis",
                  "Count": 1
                },
                {
                  "index": 82,
                  "Provincia": "Cienfuegos",
                  "Municipio": "Cruces",
                  "ÁreaSalud": "Área III",
                  "Diagnóstico": "NAC",
                  "Count": 1
                },
                {
                  "index": 83,
                  "Provincia": "Cienfuegos",
                  "Municipio": "Cruces",
                  "ÁreaSalud": "Área VI",
                  "Diagnóstico": "HQ Apendicitis",
                  "Count": 1
                },
                {
                  "index": 84,
                  "Provincia": "Cienfuegos",
                  "Municipio": "Cruces",
                  "ÁreaSalud": "Área VI",
                  "Diagnóstico": "Lifrangitis Aguda",
                  "Count": 1
                },
                {
                  "index": 85,
                  "Provincia": "Cienfuegos",
                  "Municipio": "Cruces",
                  "ÁreaSalud": "Área VIII",
                  "Diagnóstico": "HQ Apendicitis",
                  "Count": 1
                },
                {
                  "index": 86,
                  "Provincia": "Cienfuegos",
                  "Municipio": "Cruces",
                  "ÁreaSalud": "Área VIII",
                  "Diagnóstico": "Lifrangitis Aguda",
                  "Count": 1
                },
                {
                  "index": 87,
                  "Provincia": "Cienfuegos",
                  "Municipio": "Cumanayagua",
                  "ÁreaSalud": "Cumanayagua",
                  "Diagnóstico": "Anemia ",
                  "Count": 5
                },
                {
                  "index": 88,
                  "Provincia": "Cienfuegos",
                  "Municipio": "Cumanayagua",
                  "ÁreaSalud": "Cumanayagua",
                  "Diagnóstico": "Asma Bronquial",
                  "Count": 2
                },
                {
                  "index": 89,
                  "Provincia": "Cienfuegos",
                  "Municipio": "Cumanayagua",
                  "ÁreaSalud": "Cumanayagua",
                  "Diagnóstico": "Dolor Abdominal",
                  "Count": 2
                },
                {
                  "index": 90,
                  "Provincia": "Cienfuegos",
                  "Municipio": "Cumanayagua",
                  "ÁreaSalud": "Cumanayagua",
                  "Diagnóstico": "HQ Apendicitis",
                  "Count": 4
                },
                {
                  "index": 91,
                  "Provincia": "Cienfuegos",
                  "Municipio": "Cumanayagua",
                  "ÁreaSalud": "Cumanayagua",
                  "Diagnóstico": "Lifrangitis Aguda",
                  "Count": 7
                },
                {
                  "index": 92,
                  "Provincia": "Cienfuegos",
                  "Municipio": "Cumanayagua",
                  "ÁreaSalud": "Cumanayagua",
                  "Diagnóstico": "NAC",
                  "Count": 7
                },
                {
                  "index": 93,
                  "Provincia": "Cienfuegos",
                  "Municipio": "Cumanayagua",
                  "ÁreaSalud": "Cumanayagua",
                  "Diagnóstico": "SFA+ Dengue",
                  "Count": 5
                },
                {
                  "index": 94,
                  "Provincia": "Cienfuegos",
                  "Municipio": "Lajas",
                  "ÁreaSalud": "Lajas",
                  "Diagnóstico": "Anemia ",
                  "Count": 6
                },
                {
                  "index": 95,
                  "Provincia": "Cienfuegos",
                  "Municipio": "Lajas",
                  "ÁreaSalud": "Lajas",
                  "Diagnóstico": "Asma Bronquial",
                  "Count": 15
                },
                {
                  "index": 96,
                  "Provincia": "Cienfuegos",
                  "Municipio": "Lajas",
                  "ÁreaSalud": "Lajas",
                  "Diagnóstico": "Dolor Abdominal",
                  "Count": 4
                },
                {
                  "index": 97,
                  "Provincia": "Cienfuegos",
                  "Municipio": "Lajas",
                  "ÁreaSalud": "Lajas",
                  "Diagnóstico": "HQ Apendicitis",
                  "Count": 3
                },
                {
                  "index": 98,
                  "Provincia": "Cienfuegos",
                  "Municipio": "Lajas",
                  "ÁreaSalud": "Lajas",
                  "Diagnóstico": "Lifrangitis Aguda",
                  "Count": 6
                },
                {
                  "index": 99,
                  "Provincia": "Cienfuegos",
                  "Municipio": "Lajas",
                  "ÁreaSalud": "Lajas",
                  "Diagnóstico": "NAC",
                  "Count": 12
                },
                {
                  "index": 100,
                  "Provincia": "Cienfuegos",
                  "Municipio": "Lajas",
                  "ÁreaSalud": "Lajas",
                  "Diagnóstico": "SFA+ Dengue",
                  "Count": 16
                },
                {
                  "index": 101,
                  "Provincia": "Cienfuegos",
                  "Municipio": "Lajas",
                  "ÁreaSalud": "Área III",
                  "Diagnóstico": "Lifrangitis Aguda",
                  "Count": 1
                },
                {
                  "index": 102,
                  "Provincia": "Cienfuegos",
                  "Municipio": "Palmira",
                  "ÁreaSalud": "Palmira",
                  "Diagnóstico": "Anemia ",
                  "Count": 5
                },
                {
                  "index": 103,
                  "Provincia": "Cienfuegos",
                  "Municipio": "Palmira",
                  "ÁreaSalud": "Palmira",
                  "Diagnóstico": "Asma Bronquial",
                  "Count": 7
                },
                {
                  "index": 104,
                  "Provincia": "Cienfuegos",
                  "Municipio": "Palmira",
                  "ÁreaSalud": "Palmira",
                  "Diagnóstico": "Dolor Abdominal",
                  "Count": 1
                },
                {
                  "index": 105,
                  "Provincia": "Cienfuegos",
                  "Municipio": "Palmira",
                  "ÁreaSalud": "Palmira",
                  "Diagnóstico": "HQ Apendicitis",
                  "Count": 3
                },
                {
                  "index": 106,
                  "Provincia": "Cienfuegos",
                  "Municipio": "Palmira",
                  "ÁreaSalud": "Palmira",
                  "Diagnóstico": "Lifrangitis Aguda",
                  "Count": 12
                },
                {
                  "index": 107,
                  "Provincia": "Cienfuegos",
                  "Municipio": "Palmira",
                  "ÁreaSalud": "Palmira",
                  "Diagnóstico": "NAC",
                  "Count": 10
                },
                {
                  "index": 108,
                  "Provincia": "Cienfuegos",
                  "Municipio": "Palmira",
                  "ÁreaSalud": "Palmira",
                  "Diagnóstico": "SDB (1B)",
                  "Count": 1
                },
                {
                  "index": 109,
                  "Provincia": "Cienfuegos",
                  "Municipio": "Palmira",
                  "ÁreaSalud": "Palmira",
                  "Diagnóstico": "SFA+ Dengue",
                  "Count": 6
                },
                {
                  "index": 110,
                  "Provincia": "Cienfuegos",
                  "Municipio": "Plamira",
                  "ÁreaSalud": "Plamira",
                  "Diagnóstico": "Anemia ",
                  "Count": 2
                },
                {
                  "index": 111,
                  "Provincia": "Cienfuegos",
                  "Municipio": "Plamira",
                  "ÁreaSalud": "Plamira",
                  "Diagnóstico": "Asma Bronquial",
                  "Count": 4
                },
                {
                  "index": 112,
                  "Provincia": "Cienfuegos",
                  "Municipio": "Rodas",
                  "ÁreaSalud": "Rodas",
                  "Diagnóstico": "Anemia ",
                  "Count": 4
                },
                {
                  "index": 113,
                  "Provincia": "Cienfuegos",
                  "Municipio": "Rodas",
                  "ÁreaSalud": "Rodas",
                  "Diagnóstico": "HQ Apendicitis",
                  "Count": 6
                },
                {
                  "index": 114,
                  "Provincia": "Cienfuegos",
                  "Municipio": "Rodas",
                  "ÁreaSalud": "Rodas",
                  "Diagnóstico": "NAC",
                  "Count": 2
                },
                {
                  "index": 115,
                  "Provincia": "Cienfuegos",
                  "Municipio": "Rodas",
                  "ÁreaSalud": "Rodas",
                  "Diagnóstico": "SFA+ Dengue",
                  "Count": 2
                }
              ],
              "datalink": {
                "display_id": "c386d22d-5c49-40e4-9207-20f651d2d622"
              }
            }
          },
          "metadata": {
            "application/vnd.dataresource+json": {
              "datalink": {
                "dataframe_info": {
                  "default_index_used": true,
                  "orig_size_bytes": 5568,
                  "orig_num_rows": 116,
                  "orig_num_cols": 5,
                  "truncated_string_columns": [],
                  "truncated_size_bytes": 5568,
                  "truncated_num_rows": 116,
                  "truncated_num_cols": 5
                },
                "dx_settings": {
                  "NUM_PAST_SAMPLES_TRACKED": 3,
                  "ENABLE_DATALINK": true,
                  "DISPLAY_MODE": "simple",
                  "GENERATE_DEX_METADATA": false,
                  "STRINGIFY_INDEX_VALUES": false,
                  "ALLOW_NOTEABLE_ATTRS": true,
                  "DISPLAY_MAX_COLUMNS": 100,
                  "HTML_TABLE_SCHEMA": false,
                  "SAMPLING_FACTOR": 0.1,
                  "LOG_LEVEL": 30,
                  "ENABLE_ASSIGNMENT": true,
                  "FLATTEN_INDEX_VALUES": false,
                  "DEV_MODE": false,
                  "COLUMN_SAMPLING_METHOD": "outer",
                  "FLATTEN_COLUMN_VALUES": true,
                  "DISPLAY_MAX_ROWS": 50000,
                  "ROW_SAMPLING_METHOD": "random",
                  "RANDOM_STATE": 12648430,
                  "DB_LOCATION": ":memory:",
                  "STRINGIFY_COLUMN_VALUES": true,
                  "SAMPLING_METHOD": "random",
                  "MAX_STRING_LENGTH": 250,
                  "MAX_RENDER_SIZE_BYTES": 104857600,
                  "RESET_INDEX_VALUES": false
                },
                "display_id": "c386d22d-5c49-40e4-9207-20f651d2d622",
                "applied_filters": [],
                "sample_history": [],
                "sampling_time": "2023-09-01T04:47:05.472560",
                "variable_name": "grouped_data_diagnosis",
                "user_variable_name": "grouped_data_diagnosis"
              },
              "display_id": "c386d22d-5c49-40e4-9207-20f651d2d622"
            }
          }
        }
      ],
      "execution_count": null,
      "metadata": {
        "noteable": {
          "cell_type": "code"
        },
        "ExecuteTime": {
          "start_time": "2023-09-01T04:47:05.431862+00:00",
          "end_time": "2023-09-01T04:47:05.631889+00:00"
        },
        "datalink": {
          "c386d22d-5c49-40e4-9207-20f651d2d622": {
            "dataframe_info": {
              "default_index_used": true,
              "orig_size_bytes": 5568,
              "orig_num_rows": 116,
              "orig_num_cols": 5,
              "truncated_string_columns": [],
              "truncated_size_bytes": 5568,
              "truncated_num_rows": 116,
              "truncated_num_cols": 5
            },
            "dx_settings": {
              "LOG_LEVEL": 30,
              "DEV_MODE": false,
              "DISPLAY_MAX_ROWS": 50000,
              "DISPLAY_MAX_COLUMNS": 100,
              "HTML_TABLE_SCHEMA": false,
              "MAX_RENDER_SIZE_BYTES": 104857600,
              "MAX_STRING_LENGTH": 250,
              "SAMPLING_FACTOR": 0.1,
              "DISPLAY_MODE": "simple",
              "SAMPLING_METHOD": "random",
              "COLUMN_SAMPLING_METHOD": "outer",
              "ROW_SAMPLING_METHOD": "random",
              "RANDOM_STATE": 12648430,
              "RESET_INDEX_VALUES": false,
              "FLATTEN_INDEX_VALUES": false,
              "FLATTEN_COLUMN_VALUES": true,
              "STRINGIFY_INDEX_VALUES": false,
              "STRINGIFY_COLUMN_VALUES": true,
              "ENABLE_DATALINK": true,
              "ENABLE_ASSIGNMENT": true,
              "NUM_PAST_SAMPLES_TRACKED": 3,
              "DB_LOCATION": ":memory:",
              "GENERATE_DEX_METADATA": false,
              "ALLOW_NOTEABLE_ATTRS": true
            },
            "display_id": "c386d22d-5c49-40e4-9207-20f651d2d622",
            "applied_filters": [],
            "sample_history": [],
            "sampling_time": "2023-09-01T04:47:05.472560",
            "variable_name": "grouped_data_diagnosis",
            "user_variable_name": "grouped_data_diagnosis"
          }
        }
      },
      "id": "17ac0dcd-5062-4fd5-93f4-a30d31249d11"
    }
  ],
  "metadata": {
    "noteable-chatgpt": {
      "create_notebook": {
        "openai_conversation_id": "b78cb8ad-78de-5572-b269-0c353aff8d6d",
        "openai_ephemeral_user_id": "28a260ca-0264-53ed-8166-7316da8aaedc",
        "openai_subdivision1_iso_code": "DE-BY"
      }
    },
    "kernel_info": {
      "name": "python3"
    },
    "kernelspec": {
      "display_name": "Python 3.9",
      "language": "python",
      "name": "python3"
    },
    "selected_hardware_size": "small",
    "noteable": {
      "last_delta_id": "ac6d469c-de53-4026-993d-8046b55e0fa5"
    },
    "nteract": {
      "version": "noteable@2.9.0"
    }
  },
  "nbformat": 4,
  "nbformat_minor": 5
}